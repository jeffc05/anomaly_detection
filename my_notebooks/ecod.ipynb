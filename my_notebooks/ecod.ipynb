{
 "cells": [
  {
   "cell_type": "markdown",
   "metadata": {},
   "source": [
    "# Empirical Cumulative Distribution-based Outlier Detection (ECOD)"
   ]
  },
  {
   "cell_type": "code",
   "execution_count": 17,
   "metadata": {},
   "outputs": [],
   "source": [
    "import numpy as np\n",
    "import pandas as pd\n",
    "import matplotlib.pyplot as plt\n",
    "from pyod.models.ecod import ECOD\n",
    "from pyod.models.hbos import HBOS\n",
    "from utils import *"
   ]
  },
  {
   "cell_type": "code",
   "execution_count": 6,
   "metadata": {},
   "outputs": [],
   "source": [
    "X_train, X_test, y_train, y_test = data_generator()"
   ]
  },
  {
   "cell_type": "markdown",
   "metadata": {},
   "source": [
    "## Step 1: Build the model"
   ]
  },
  {
   "cell_type": "code",
   "execution_count": 11,
   "metadata": {},
   "outputs": [],
   "source": [
    "ecod = ECOD() # default contamination rate of PYOD is 0.1\n",
    "ecod.fit(X_train);"
   ]
  },
  {
   "cell_type": "code",
   "execution_count": 12,
   "metadata": {},
   "outputs": [
    {
     "name": "stdout",
     "output_type": "stream",
     "text": [
      "The training data: {0: 450, 1: 50}\n",
      "The training data: {0: 444, 1: 56}\n",
      "The threshold for the defined contamination rate: 12.75035460032711\n"
     ]
    }
   ],
   "source": [
    "# Training data\n",
    "y_train_scores = ecod.decision_function(X_train)\n",
    "y_train_pred = ecod.predict(X_train)\n",
    "\n",
    "# Test data\n",
    "y_test_scores = ecod.decision_function(X_test)\n",
    "y_test_pred = ecod.predict(X_test) # outlier labels (0 or 1)\n",
    "\n",
    "print(\"The training data:\", count_stat(y_train_pred))\n",
    "print(\"The training data:\", count_stat(y_test_pred))\n",
    "print(\"The threshold for the defined contamination rate:\" , ecod.threshold_)"
   ]
  },
  {
   "cell_type": "markdown",
   "metadata": {},
   "source": [
    "## Step 2: Determine a reasonable threshold"
   ]
  },
  {
   "cell_type": "code",
   "execution_count": 14,
   "metadata": {},
   "outputs": [
    {
     "data": {
      "image/png": "[encoded data removed]",
      "text/plain": [
       "<Figure size 640x480 with 1 Axes>"
      ]
     },
     "metadata": {},
     "output_type": "display_data"
    }
   ],
   "source": [
    "plt.hist(y_train_scores, bins='auto') # arguments are passed to np.histogram\n",
    "plt.title(\"Outlier score\")\n",
    "plt.show()"
   ]
  },
  {
   "cell_type": "markdown",
   "metadata": {},
   "source": [
    "## Step 3: Profile the normal and outlier groups"
   ]
  },
  {
   "cell_type": "markdown",
   "metadata": {},
   "source": [
    "We choose a threshold of 17 so that observations with the highest 5 percent of outlier scores are classified as anomalies."
   ]
  },
  {
   "cell_type": "code",
   "execution_count": 16,
   "metadata": {},
   "outputs": [
    {
     "data": {
      "application/vnd.microsoft.datawrangler.viewer.v0+json": {
       "columns": [
        {
         "name": "index",
         "rawType": "int64",
         "type": "integer"
        },
        {
         "name": "Group",
         "rawType": "object",
         "type": "string"
        },
        {
         "name": "Count",
         "rawType": "int64",
         "type": "integer"
        },
        {
         "name": "Count %",
         "rawType": "float64",
         "type": "float"
        },
        {
         "name": "Feature_1",
         "rawType": "float64",
         "type": "float"
        },
        {
         "name": "Feature_2",
         "rawType": "float64",
         "type": "float"
        },
        {
         "name": "Feature_3",
         "rawType": "float64",
         "type": "float"
        },
        {
         "name": "Feature_4",
         "rawType": "float64",
         "type": "float"
        },
        {
         "name": "Feature_5",
         "rawType": "float64",
         "type": "float"
        },
        {
         "name": "Feature_6",
         "rawType": "float64",
         "type": "float"
        },
        {
         "name": "Anomaly_Score",
         "rawType": "float64",
         "type": "float"
        }
       ],
       "conversionMethod": "pd.DataFrame",
       "ref": "422791e2-3820-4e7b-87cb-5009f3d9b05d",
       "rows": [
        [
         "0",
         "Normal",
         "475",
         "95.0",
         "3.0",
         "2.99",
         "2.99",
         "3.01",
         "2.99",
         "3.02",
         "9.4"
        ],
        [
         "1",
         "Outlier",
         "25",
         "5.0",
         "4.55",
         "5.21",
         "5.47",
         "5.23",
         "5.03",
         "5.06",
         "22.86"
        ]
       ],
       "shape": {
        "columns": 10,
        "rows": 2
       }
      },
      "text/html": [
       "<div>\n",
       "<style scoped>\n",
       "    .dataframe tbody tr th:only-of-type {\n",
       "        vertical-align: middle;\n",
       "    }\n",
       "\n",
       "    .dataframe tbody tr th {\n",
       "        vertical-align: top;\n",
       "    }\n",
       "\n",
       "    .dataframe thead th {\n",
       "        text-align: right;\n",
       "    }\n",
       "</style>\n",
       "<table border=\"1\" class=\"dataframe\">\n",
       "  <thead>\n",
       "    <tr style=\"text-align: right;\">\n",
       "      <th></th>\n",
       "      <th>Group</th>\n",
       "      <th>Count</th>\n",
       "      <th>Count %</th>\n",
       "      <th>Feature_1</th>\n",
       "      <th>Feature_2</th>\n",
       "      <th>Feature_3</th>\n",
       "      <th>Feature_4</th>\n",
       "      <th>Feature_5</th>\n",
       "      <th>Feature_6</th>\n",
       "      <th>Anomaly_Score</th>\n",
       "    </tr>\n",
       "  </thead>\n",
       "  <tbody>\n",
       "    <tr>\n",
       "      <th>0</th>\n",
       "      <td>Normal</td>\n",
       "      <td>475</td>\n",
       "      <td>95.0</td>\n",
       "      <td>3.00</td>\n",
       "      <td>2.99</td>\n",
       "      <td>2.99</td>\n",
       "      <td>3.01</td>\n",
       "      <td>2.99</td>\n",
       "      <td>3.02</td>\n",
       "      <td>9.40</td>\n",
       "    </tr>\n",
       "    <tr>\n",
       "      <th>1</th>\n",
       "      <td>Outlier</td>\n",
       "      <td>25</td>\n",
       "      <td>5.0</td>\n",
       "      <td>4.55</td>\n",
       "      <td>5.21</td>\n",
       "      <td>5.47</td>\n",
       "      <td>5.23</td>\n",
       "      <td>5.03</td>\n",
       "      <td>5.06</td>\n",
       "      <td>22.86</td>\n",
       "    </tr>\n",
       "  </tbody>\n",
       "</table>\n",
       "</div>"
      ],
      "text/plain": [
       "     Group  Count  Count %  Feature_1  Feature_2  Feature_3  Feature_4  \\\n",
       "0   Normal    475     95.0       3.00       2.99       2.99       3.01   \n",
       "1  Outlier     25      5.0       4.55       5.21       5.47       5.23   \n",
       "\n",
       "   Feature_5  Feature_6  Anomaly_Score  \n",
       "0       2.99       3.02           9.40  \n",
       "1       5.03       5.06          22.86  "
      ]
     },
     "execution_count": 16,
     "metadata": {},
     "output_type": "execute_result"
    }
   ],
   "source": [
    "threshold = 17 # Or other value from the above histogram\n",
    "feature_list = ['Feature_1', 'Feature_2', 'Feature_3', 'Feature_4', 'Feature_5', 'Feature_6']\n",
    "descriptive_stat_threshold(X_train, feature_list, y_train_scores, threshold)"
   ]
  },
  {
   "cell_type": "markdown",
   "metadata": {},
   "source": [
    "# Triangulate different models"
   ]
  },
  {
   "cell_type": "markdown",
   "metadata": {},
   "source": [
    "When an observation is flagged as an outlier by different models, the likelihood of it being a true outlier increases significantly. This suggests that cross-validation using multiple models can enhance the robustness of our outlier\n",
    "detection process."
   ]
  },
  {
   "cell_type": "code",
   "execution_count": 22,
   "metadata": {},
   "outputs": [
    {
     "data": {
      "text/plain": [
       "[16.320821760780653, 5.563712646460526]"
      ]
     },
     "execution_count": 22,
     "metadata": {},
     "output_type": "execute_result"
    }
   ],
   "source": [
    "########\n",
    "# HBOS #\n",
    "########\n",
    "n_bins = 50\n",
    "hbos = HBOS(n_bins=n_bins, contamination=0.05)\n",
    "hbos.fit(X_train)\n",
    "y_train_hbos_pred = hbos.labels_\n",
    "y_test_hbos_pred = hbos.predict(X_test)\n",
    "y_train_hbos_scores = hbos.decision_function(X_train)\n",
    "y_test_hbos_scores = hbos.decision_function(X_test)\n",
    "\n",
    "########\n",
    "# ECOD #\n",
    "########\n",
    "ecod = ECOD(contamination=0.05)\n",
    "ecod.fit(X_train)\n",
    "y_train_ecod_pred = ecod.labels_\n",
    "y_test_ecod_pred = ecod.predict(X_test)\n",
    "y_train_ecod_scores = ecod.decision_scores_  # raw outlier scores\n",
    "y_test_ecod_scores = ecod.decision_function(X_test)\n",
    "\n",
    "# Thresholds\n",
    "[ecod.threshold_.item(), hbos.threshold_.item()]"
   ]
  },
  {
   "cell_type": "code",
   "execution_count": 24,
   "metadata": {},
   "outputs": [
    {
     "data": {
      "application/vnd.microsoft.datawrangler.viewer.v0+json": {
       "columns": [
        {
         "name": "HBOS_pred",
         "rawType": "int64",
         "type": "integer"
        },
        {
         "name": "0",
         "rawType": "int64",
         "type": "integer"
        },
        {
         "name": "1",
         "rawType": "int64",
         "type": "integer"
        }
       ],
       "conversionMethod": "pd.DataFrame",
       "ref": "d2b60a28-46d5-46fe-b0bb-83109c9b7d9e",
       "rows": [
        [
         "0",
         "473",
         "1"
        ],
        [
         "1",
         "0",
         "26"
        ]
       ],
       "shape": {
        "columns": 2,
        "rows": 2
       }
      },
      "text/html": [
       "<div>\n",
       "<style scoped>\n",
       "    .dataframe tbody tr th:only-of-type {\n",
       "        vertical-align: middle;\n",
       "    }\n",
       "\n",
       "    .dataframe tbody tr th {\n",
       "        vertical-align: top;\n",
       "    }\n",
       "\n",
       "    .dataframe thead th {\n",
       "        text-align: right;\n",
       "    }\n",
       "</style>\n",
       "<table border=\"1\" class=\"dataframe\">\n",
       "  <thead>\n",
       "    <tr style=\"text-align: right;\">\n",
       "      <th>ECOD_pred</th>\n",
       "      <th>0</th>\n",
       "      <th>1</th>\n",
       "    </tr>\n",
       "    <tr>\n",
       "      <th>HBOS_pred</th>\n",
       "      <th></th>\n",
       "      <th></th>\n",
       "    </tr>\n",
       "  </thead>\n",
       "  <tbody>\n",
       "    <tr>\n",
       "      <th>0</th>\n",
       "      <td>473</td>\n",
       "      <td>1</td>\n",
       "    </tr>\n",
       "    <tr>\n",
       "      <th>1</th>\n",
       "      <td>0</td>\n",
       "      <td>26</td>\n",
       "    </tr>\n",
       "  </tbody>\n",
       "</table>\n",
       "</div>"
      ],
      "text/plain": [
       "ECOD_pred    0   1\n",
       "HBOS_pred         \n",
       "0          473   1\n",
       "1            0  26"
      ]
     },
     "execution_count": 24,
     "metadata": {},
     "output_type": "execute_result"
    }
   ],
   "source": [
    "# Put the actual, the HBO score and the ECOD score together\n",
    "Actual_pred = pd.DataFrame({'Actual': y_test,\n",
    "                            'HBOS_pred': y_test_hbos_pred,\n",
    "                            'ECOD_pred': y_test_ecod_pred})\n",
    "\n",
    "pd.crosstab(Actual_pred['HBOS_pred'],Actual_pred['ECOD_pred'])"
   ]
  },
  {
   "cell_type": "code",
   "execution_count": null,
   "metadata": {},
   "outputs": [],
   "source": []
  }
 ],
 "metadata": {
  "kernelspec": {
   "display_name": "anomaly",
   "language": "python",
   "name": "python3"
  },
  "language_info": {
   "codemirror_mode": {
    "name": "ipython",
    "version": 3
   },
   "file_extension": ".py",
   "mimetype": "text/x-python",
   "name": "python",
   "nbconvert_exporter": "python",
   "pygments_lexer": "ipython3",
   "version": "3.12.9"
  }
 },
 "nbformat": 4,
 "nbformat_minor": 2
}
