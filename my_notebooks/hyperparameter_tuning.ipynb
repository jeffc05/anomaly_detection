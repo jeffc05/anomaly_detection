{
 "cells": [
  {
   "cell_type": "code",
   "execution_count": 63,
   "metadata": {},
   "outputs": [],
   "source": [
    "import numpy as np\n",
    "import pandas as pd\n",
    "import matplotlib.pyplot as plt\n",
    "from itertools import product\n",
    "from sklearn.model_selection import train_test_split\n",
    "from sklearn.preprocessing import StandardScaler\n",
    "from sklearn.manifold import TSNE\n",
    "from pyod.models.hbos import HBOS\n",
    "from pyod.models.iforest import IForest\n",
    "from pyod.models.knn import KNN\n",
    "from pyod.models.gmm import GMM\n",
    "from pyod.models.pca import PCA\n",
    "from pyod.models.lof import LOF\n",
    "from pyod.utils.utility import standardizer\n",
    "from pyod.models.combination import average\n",
    "from scipy.optimize import fsolve\n",
    "from utils import *"
   ]
  },
  {
   "cell_type": "code",
   "execution_count": 2,
   "metadata": {},
   "outputs": [],
   "source": [
    "data = pd.read_csv(\"airbnb_data/AB_US_2023.csv\", low_memory=False) # .sample(frac=0.1, random_state=42)"
   ]
  },
  {
   "cell_type": "code",
   "execution_count": 3,
   "metadata": {},
   "outputs": [],
   "source": [
    "cols_to_drop = [\"id\", \"name\", \"host_id\", \"host_name\", \"neighbourhood_group\",\n",
    "                \"neighbourhood\", \"latitude\", \"longitude\", \"room_type\",\n",
    "                \"last_review\", \"number_of_reviews_ltm\", \"city\"]\n",
    "\n",
    "data.drop(cols_to_drop, axis=1, inplace=True)"
   ]
  },
  {
   "cell_type": "code",
   "execution_count": 4,
   "metadata": {},
   "outputs": [
    {
     "data": {
      "application/vnd.microsoft.datawrangler.viewer.v0+json": {
       "columns": [
        {
         "name": "index",
         "rawType": "int64",
         "type": "integer"
        },
        {
         "name": "price",
         "rawType": "int64",
         "type": "integer"
        },
        {
         "name": "minimum_nights",
         "rawType": "int64",
         "type": "integer"
        },
        {
         "name": "number_of_reviews",
         "rawType": "int64",
         "type": "integer"
        },
        {
         "name": "reviews_per_month",
         "rawType": "float64",
         "type": "float"
        },
        {
         "name": "calculated_host_listings_count",
         "rawType": "int64",
         "type": "integer"
        },
        {
         "name": "availability_365",
         "rawType": "int64",
         "type": "integer"
        }
       ],
       "conversionMethod": "pd.DataFrame",
       "ref": "a4f456fa-de2e-4d21-b1c1-9ebd7957e140",
       "rows": [
        [
         "0",
         "202",
         "2",
         "383",
         "2.31",
         "1",
         "128"
        ],
        [
         "1",
         "235",
         "30",
         "111",
         "0.66",
         "1",
         "365"
        ],
        [
         "2",
         "56",
         "32",
         "9",
         "0.09",
         "13",
         "365"
        ],
        [
         "3",
         "575",
         "9",
         "28",
         "0.17",
         "2",
         "365"
        ],
        [
         "4",
         "110",
         "1",
         "770",
         "4.65",
         "2",
         "159"
        ],
        [
         "5",
         "95",
         "1",
         "19",
         "0.12",
         "2",
         "365"
        ],
        [
         "6",
         "259",
         "5",
         "234",
         "1.69",
         "1",
         "32"
        ],
        [
         "7",
         "100",
         "30",
         "80",
         "0.74",
         "1",
         "331"
        ],
        [
         "8",
         "79",
         "30",
         "18",
         "0.13",
         "1",
         "230"
        ],
        [
         "9",
         "65",
         "32",
         "7",
         "0.05",
         "13",
         "365"
        ],
        [
         "10",
         "425",
         "2",
         "56",
         "0.44",
         "1",
         "7"
        ],
        [
         "11",
         "65",
         "32",
         "5",
         "0.04",
         "13",
         "365"
        ],
        [
         "12",
         "99",
         "3",
         "446",
         "2.79",
         "1",
         "7"
        ],
        [
         "13",
         "545",
         "3",
         "22",
         "0.15",
         "1",
         "64"
        ],
        [
         "14",
         "95",
         "30",
         "69",
         "0.44",
         "1",
         "192"
        ],
        [
         "15",
         "55",
         "30",
         "121",
         "0.85",
         "9",
         "55"
        ],
        [
         "16",
         "167",
         "30",
         "112",
         "0.79",
         "5",
         "262"
        ],
        [
         "17",
         "235",
         "4",
         "102",
         "0.78",
         "1",
         "352"
        ],
        [
         "18",
         "116",
         "2",
         "443",
         "3.23",
         "1",
         "56"
        ],
        [
         "19",
         "140",
         "3",
         "222",
         "1.72",
         "2",
         "312"
        ],
        [
         "20",
         "85",
         "30",
         "118",
         "0.86",
         "5",
         "215"
        ],
        [
         "21",
         "149",
         "30",
         "124",
         "0.79",
         "1",
         "357"
        ],
        [
         "22",
         "70",
         "30",
         "96",
         "0.91",
         "5",
         "241"
        ],
        [
         "23",
         "180",
         "30",
         "3",
         "0.03",
         "1",
         "79"
        ],
        [
         "24",
         "220",
         "30",
         "110",
         "0.85",
         "5",
         "64"
        ],
        [
         "25",
         "286",
         "5",
         "261",
         "1.66",
         "1",
         "49"
        ],
        [
         "26",
         "350",
         "30",
         "116",
         "0.89",
         "5",
         "64"
        ],
        [
         "27",
         "295",
         "2",
         "111",
         "0.87",
         "1",
         "64"
        ],
        [
         "28",
         "240",
         "30",
         "13",
         "0.11",
         "2",
         "142"
        ],
        [
         "29",
         "158",
         "30",
         "131",
         "0.92",
         "2",
         "159"
        ],
        [
         "30",
         "170",
         "30",
         "159",
         "1.13",
         "1",
         "89"
        ],
        [
         "31",
         "150",
         "30",
         "170",
         "1.21",
         "1",
         "114"
        ],
        [
         "32",
         "169",
         "2",
         "354",
         "2.28",
         "2",
         "228"
        ],
        [
         "33",
         "120",
         "30",
         "26",
         "0.19",
         "6",
         "307"
        ],
        [
         "34",
         "130",
         "30",
         "54",
         "0.39",
         "6",
         "255"
        ],
        [
         "35",
         "390",
         "31",
         "1",
         "0.01",
         "1",
         "300"
        ],
        [
         "36",
         "192",
         "5",
         "405",
         "2.58",
         "2",
         "38"
        ],
        [
         "37",
         "165",
         "5",
         "60",
         "0.73",
         "1",
         "346"
        ],
        [
         "38",
         "126",
         "31",
         "79",
         "0.61",
         "1",
         "270"
        ],
        [
         "39",
         "249",
         "3",
         "320",
         "2.44",
         "1",
         "276"
        ],
        [
         "40",
         "164",
         "1",
         "26",
         "0.28",
         "2",
         "0"
        ],
        [
         "41",
         "62",
         "30",
         "11",
         "0.15",
         "1",
         "88"
        ],
        [
         "42",
         "160",
         "7",
         "18",
         "0.13",
         "2",
         "64"
        ],
        [
         "43",
         "85",
         "2",
         "38",
         "0.65",
         "2",
         "331"
        ],
        [
         "44",
         "423",
         "3",
         "24",
         "0.23",
         "1",
         "29"
        ],
        [
         "45",
         "120",
         "30",
         "63",
         "0.46",
         "1",
         "217"
        ],
        [
         "46",
         "175",
         "2",
         "112",
         "0.73",
         "1",
         "277"
        ],
        [
         "47",
         "175",
         "30",
         "3",
         "0.05",
         "1",
         "87"
        ],
        [
         "48",
         "150",
         "30",
         "94",
         "0.61",
         "1",
         "155"
        ],
        [
         "49",
         "295",
         "2",
         "556",
         "3.98",
         "1",
         "212"
        ]
       ],
       "shape": {
        "columns": 6,
        "rows": 232147
       }
      },
      "text/html": [
       "<div>\n",
       "<style scoped>\n",
       "    .dataframe tbody tr th:only-of-type {\n",
       "        vertical-align: middle;\n",
       "    }\n",
       "\n",
       "    .dataframe tbody tr th {\n",
       "        vertical-align: top;\n",
       "    }\n",
       "\n",
       "    .dataframe thead th {\n",
       "        text-align: right;\n",
       "    }\n",
       "</style>\n",
       "<table border=\"1\" class=\"dataframe\">\n",
       "  <thead>\n",
       "    <tr style=\"text-align: right;\">\n",
       "      <th></th>\n",
       "      <th>price</th>\n",
       "      <th>minimum_nights</th>\n",
       "      <th>number_of_reviews</th>\n",
       "      <th>reviews_per_month</th>\n",
       "      <th>calculated_host_listings_count</th>\n",
       "      <th>availability_365</th>\n",
       "    </tr>\n",
       "  </thead>\n",
       "  <tbody>\n",
       "    <tr>\n",
       "      <th>0</th>\n",
       "      <td>202</td>\n",
       "      <td>2</td>\n",
       "      <td>383</td>\n",
       "      <td>2.31</td>\n",
       "      <td>1</td>\n",
       "      <td>128</td>\n",
       "    </tr>\n",
       "    <tr>\n",
       "      <th>1</th>\n",
       "      <td>235</td>\n",
       "      <td>30</td>\n",
       "      <td>111</td>\n",
       "      <td>0.66</td>\n",
       "      <td>1</td>\n",
       "      <td>365</td>\n",
       "    </tr>\n",
       "    <tr>\n",
       "      <th>2</th>\n",
       "      <td>56</td>\n",
       "      <td>32</td>\n",
       "      <td>9</td>\n",
       "      <td>0.09</td>\n",
       "      <td>13</td>\n",
       "      <td>365</td>\n",
       "    </tr>\n",
       "    <tr>\n",
       "      <th>3</th>\n",
       "      <td>575</td>\n",
       "      <td>9</td>\n",
       "      <td>28</td>\n",
       "      <td>0.17</td>\n",
       "      <td>2</td>\n",
       "      <td>365</td>\n",
       "    </tr>\n",
       "    <tr>\n",
       "      <th>4</th>\n",
       "      <td>110</td>\n",
       "      <td>1</td>\n",
       "      <td>770</td>\n",
       "      <td>4.65</td>\n",
       "      <td>2</td>\n",
       "      <td>159</td>\n",
       "    </tr>\n",
       "    <tr>\n",
       "      <th>...</th>\n",
       "      <td>...</td>\n",
       "      <td>...</td>\n",
       "      <td>...</td>\n",
       "      <td>...</td>\n",
       "      <td>...</td>\n",
       "      <td>...</td>\n",
       "    </tr>\n",
       "    <tr>\n",
       "      <th>232142</th>\n",
       "      <td>389</td>\n",
       "      <td>2</td>\n",
       "      <td>0</td>\n",
       "      <td>NaN</td>\n",
       "      <td>1</td>\n",
       "      <td>365</td>\n",
       "    </tr>\n",
       "    <tr>\n",
       "      <th>232143</th>\n",
       "      <td>158</td>\n",
       "      <td>1</td>\n",
       "      <td>0</td>\n",
       "      <td>NaN</td>\n",
       "      <td>1</td>\n",
       "      <td>364</td>\n",
       "    </tr>\n",
       "    <tr>\n",
       "      <th>232144</th>\n",
       "      <td>97</td>\n",
       "      <td>1</td>\n",
       "      <td>0</td>\n",
       "      <td>NaN</td>\n",
       "      <td>32</td>\n",
       "      <td>359</td>\n",
       "    </tr>\n",
       "    <tr>\n",
       "      <th>232145</th>\n",
       "      <td>62</td>\n",
       "      <td>2</td>\n",
       "      <td>0</td>\n",
       "      <td>NaN</td>\n",
       "      <td>3</td>\n",
       "      <td>67</td>\n",
       "    </tr>\n",
       "    <tr>\n",
       "      <th>232146</th>\n",
       "      <td>85</td>\n",
       "      <td>2</td>\n",
       "      <td>0</td>\n",
       "      <td>NaN</td>\n",
       "      <td>3</td>\n",
       "      <td>69</td>\n",
       "    </tr>\n",
       "  </tbody>\n",
       "</table>\n",
       "<p>232147 rows × 6 columns</p>\n",
       "</div>"
      ],
      "text/plain": [
       "        price  minimum_nights  number_of_reviews  reviews_per_month  \\\n",
       "0         202               2                383               2.31   \n",
       "1         235              30                111               0.66   \n",
       "2          56              32                  9               0.09   \n",
       "3         575               9                 28               0.17   \n",
       "4         110               1                770               4.65   \n",
       "...       ...             ...                ...                ...   \n",
       "232142    389               2                  0                NaN   \n",
       "232143    158               1                  0                NaN   \n",
       "232144     97               1                  0                NaN   \n",
       "232145     62               2                  0                NaN   \n",
       "232146     85               2                  0                NaN   \n",
       "\n",
       "        calculated_host_listings_count  availability_365  \n",
       "0                                    1               128  \n",
       "1                                    1               365  \n",
       "2                                   13               365  \n",
       "3                                    2               365  \n",
       "4                                    2               159  \n",
       "...                                ...               ...  \n",
       "232142                               1               365  \n",
       "232143                               1               364  \n",
       "232144                              32               359  \n",
       "232145                               3                67  \n",
       "232146                               3                69  \n",
       "\n",
       "[232147 rows x 6 columns]"
      ]
     },
     "execution_count": 4,
     "metadata": {},
     "output_type": "execute_result"
    }
   ],
   "source": [
    "data"
   ]
  },
  {
   "cell_type": "code",
   "execution_count": 5,
   "metadata": {},
   "outputs": [
    {
     "name": "stdout",
     "output_type": "stream",
     "text": [
      "<class 'pandas.core.frame.DataFrame'>\n",
      "RangeIndex: 232147 entries, 0 to 232146\n",
      "Data columns (total 6 columns):\n",
      " #   Column                          Non-Null Count   Dtype  \n",
      "---  ------                          --------------   -----  \n",
      " 0   price                           232147 non-null  int64  \n",
      " 1   minimum_nights                  232147 non-null  int64  \n",
      " 2   number_of_reviews               232147 non-null  int64  \n",
      " 3   reviews_per_month               183062 non-null  float64\n",
      " 4   calculated_host_listings_count  232147 non-null  int64  \n",
      " 5   availability_365                232147 non-null  int64  \n",
      "dtypes: float64(1), int64(5)\n",
      "memory usage: 10.6 MB\n"
     ]
    }
   ],
   "source": [
    "data.info()"
   ]
  },
  {
   "cell_type": "code",
   "execution_count": 6,
   "metadata": {},
   "outputs": [
    {
     "data": {
      "application/vnd.microsoft.datawrangler.viewer.v0+json": {
       "columns": [
        {
         "name": "index",
         "rawType": "object",
         "type": "string"
        },
        {
         "name": "count",
         "rawType": "float64",
         "type": "float"
        },
        {
         "name": "mean",
         "rawType": "float64",
         "type": "float"
        },
        {
         "name": "std",
         "rawType": "float64",
         "type": "float"
        },
        {
         "name": "min",
         "rawType": "float64",
         "type": "float"
        },
        {
         "name": "25%",
         "rawType": "float64",
         "type": "float"
        },
        {
         "name": "50%",
         "rawType": "float64",
         "type": "float"
        },
        {
         "name": "75%",
         "rawType": "float64",
         "type": "float"
        },
        {
         "name": "max",
         "rawType": "float64",
         "type": "float"
        }
       ],
       "conversionMethod": "pd.DataFrame",
       "ref": "89ed7841-8ee1-47ca-8a10-7a1890370722",
       "rows": [
        [
         "price",
         "232147.0",
         "259.46800087875357",
         "1024.6459180502382",
         "0.0",
         "91.0",
         "149.0",
         "250.0",
         "100000.0"
        ],
        [
         "minimum_nights",
         "232147.0",
         "13.495866842991726",
         "27.92063125948654",
         "1.0",
         "2.0",
         "3.0",
         "30.0",
         "1250.0"
        ],
        [
         "number_of_reviews",
         "232147.0",
         "40.91523043588761",
         "80.64915153143882",
         "0.0",
         "1.0",
         "9.0",
         "43.0",
         "3091.0"
        ],
        [
         "reviews_per_month",
         "183062.0",
         "1.6383475543804833",
         "1.9108119488311777",
         "0.01",
         "0.31",
         "1.0",
         "2.42",
         "101.42"
        ],
        [
         "calculated_host_listings_count",
         "232147.0",
         "29.879055081478548",
         "106.01366547868106",
         "1.0",
         "1.0",
         "2.0",
         "10.0",
         "1003.0"
        ],
        [
         "availability_365",
         "232147.0",
         "180.98568579391505",
         "134.71529942323778",
         "0.0",
         "52.0",
         "175.0",
         "321.0",
         "365.0"
        ]
       ],
       "shape": {
        "columns": 8,
        "rows": 6
       }
      },
      "text/html": [
       "<div>\n",
       "<style scoped>\n",
       "    .dataframe tbody tr th:only-of-type {\n",
       "        vertical-align: middle;\n",
       "    }\n",
       "\n",
       "    .dataframe tbody tr th {\n",
       "        vertical-align: top;\n",
       "    }\n",
       "\n",
       "    .dataframe thead th {\n",
       "        text-align: right;\n",
       "    }\n",
       "</style>\n",
       "<table border=\"1\" class=\"dataframe\">\n",
       "  <thead>\n",
       "    <tr style=\"text-align: right;\">\n",
       "      <th></th>\n",
       "      <th>count</th>\n",
       "      <th>mean</th>\n",
       "      <th>std</th>\n",
       "      <th>min</th>\n",
       "      <th>25%</th>\n",
       "      <th>50%</th>\n",
       "      <th>75%</th>\n",
       "      <th>max</th>\n",
       "    </tr>\n",
       "  </thead>\n",
       "  <tbody>\n",
       "    <tr>\n",
       "      <th>price</th>\n",
       "      <td>232147.0</td>\n",
       "      <td>259.468001</td>\n",
       "      <td>1024.645918</td>\n",
       "      <td>0.00</td>\n",
       "      <td>91.00</td>\n",
       "      <td>149.0</td>\n",
       "      <td>250.00</td>\n",
       "      <td>100000.00</td>\n",
       "    </tr>\n",
       "    <tr>\n",
       "      <th>minimum_nights</th>\n",
       "      <td>232147.0</td>\n",
       "      <td>13.495867</td>\n",
       "      <td>27.920631</td>\n",
       "      <td>1.00</td>\n",
       "      <td>2.00</td>\n",
       "      <td>3.0</td>\n",
       "      <td>30.00</td>\n",
       "      <td>1250.00</td>\n",
       "    </tr>\n",
       "    <tr>\n",
       "      <th>number_of_reviews</th>\n",
       "      <td>232147.0</td>\n",
       "      <td>40.915230</td>\n",
       "      <td>80.649152</td>\n",
       "      <td>0.00</td>\n",
       "      <td>1.00</td>\n",
       "      <td>9.0</td>\n",
       "      <td>43.00</td>\n",
       "      <td>3091.00</td>\n",
       "    </tr>\n",
       "    <tr>\n",
       "      <th>reviews_per_month</th>\n",
       "      <td>183062.0</td>\n",
       "      <td>1.638348</td>\n",
       "      <td>1.910812</td>\n",
       "      <td>0.01</td>\n",
       "      <td>0.31</td>\n",
       "      <td>1.0</td>\n",
       "      <td>2.42</td>\n",
       "      <td>101.42</td>\n",
       "    </tr>\n",
       "    <tr>\n",
       "      <th>calculated_host_listings_count</th>\n",
       "      <td>232147.0</td>\n",
       "      <td>29.879055</td>\n",
       "      <td>106.013665</td>\n",
       "      <td>1.00</td>\n",
       "      <td>1.00</td>\n",
       "      <td>2.0</td>\n",
       "      <td>10.00</td>\n",
       "      <td>1003.00</td>\n",
       "    </tr>\n",
       "    <tr>\n",
       "      <th>availability_365</th>\n",
       "      <td>232147.0</td>\n",
       "      <td>180.985686</td>\n",
       "      <td>134.715299</td>\n",
       "      <td>0.00</td>\n",
       "      <td>52.00</td>\n",
       "      <td>175.0</td>\n",
       "      <td>321.00</td>\n",
       "      <td>365.00</td>\n",
       "    </tr>\n",
       "  </tbody>\n",
       "</table>\n",
       "</div>"
      ],
      "text/plain": [
       "                                   count        mean          std   min  \\\n",
       "price                           232147.0  259.468001  1024.645918  0.00   \n",
       "minimum_nights                  232147.0   13.495867    27.920631  1.00   \n",
       "number_of_reviews               232147.0   40.915230    80.649152  0.00   \n",
       "reviews_per_month               183062.0    1.638348     1.910812  0.01   \n",
       "calculated_host_listings_count  232147.0   29.879055   106.013665  1.00   \n",
       "availability_365                232147.0  180.985686   134.715299  0.00   \n",
       "\n",
       "                                  25%    50%     75%        max  \n",
       "price                           91.00  149.0  250.00  100000.00  \n",
       "minimum_nights                   2.00    3.0   30.00    1250.00  \n",
       "number_of_reviews                1.00    9.0   43.00    3091.00  \n",
       "reviews_per_month                0.31    1.0    2.42     101.42  \n",
       "calculated_host_listings_count   1.00    2.0   10.00    1003.00  \n",
       "availability_365                52.00  175.0  321.00     365.00  "
      ]
     },
     "execution_count": 6,
     "metadata": {},
     "output_type": "execute_result"
    }
   ],
   "source": [
    "data.describe().T"
   ]
  },
  {
   "cell_type": "code",
   "execution_count": 7,
   "metadata": {},
   "outputs": [],
   "source": [
    "data[\"reviews_per_month\"] = data[\"reviews_per_month\"].fillna(0) "
   ]
  },
  {
   "cell_type": "code",
   "execution_count": 8,
   "metadata": {},
   "outputs": [],
   "source": [
    "X_train, X_test, y_train, y_test = train_test_split(\n",
    "    data.drop(\"price\", axis=1),\n",
    "    data[[\"price\"]],\n",
    "    random_state=42)"
   ]
  },
  {
   "cell_type": "code",
   "execution_count": 9,
   "metadata": {},
   "outputs": [],
   "source": [
    "# tsne = TSNE(random_state=42, n_jobs=-1)\n",
    "# X_train_tsne = tsne.fit_transform(X_train)"
   ]
  },
  {
   "cell_type": "code",
   "execution_count": 10,
   "metadata": {},
   "outputs": [],
   "source": [
    "# plt.scatter(X_train_tsne[:, 0], X_train_tsne[:, 1], s=0.6);"
   ]
  },
  {
   "cell_type": "code",
   "execution_count": 11,
   "metadata": {},
   "outputs": [
    {
     "data": {
      "text/plain": [
       "IForest(behaviour='old', bootstrap=False, contamination=0.1, max_features=1.0,\n",
       "    max_samples='auto', n_estimators=100, n_jobs=-1, random_state=42,\n",
       "    verbose=0)"
      ]
     },
     "execution_count": 11,
     "metadata": {},
     "output_type": "execute_result"
    }
   ],
   "source": [
    "iforest = IForest(contamination=0.1, n_jobs=-1, random_state=42)\n",
    "iforest.fit(X_train)"
   ]
  },
  {
   "cell_type": "code",
   "execution_count": 12,
   "metadata": {},
   "outputs": [
    {
     "data": {
      "text/plain": [
       "GMM(contamination=0.1, covariance_type='full', init_params='kmeans',\n",
       "  max_iter=100, means_init=None, n_components=1, n_init=1,\n",
       "  precisions_init=None, random_state=42, reg_covar=1e-06, tol=0.001,\n",
       "  warm_start=False, weights_init=None)"
      ]
     },
     "execution_count": 12,
     "metadata": {},
     "output_type": "execute_result"
    }
   ],
   "source": [
    "gmm = GMM(contamination=0.1, n_components=1, random_state=42)\n",
    "gmm.fit(X_train)"
   ]
  },
  {
   "cell_type": "code",
   "execution_count": 13,
   "metadata": {},
   "outputs": [
    {
     "data": {
      "text/plain": [
       "LOF(algorithm='auto', contamination=0.1, leaf_size=30, metric='minkowski',\n",
       "  metric_params=None, n_jobs=-1, n_neighbors=20, novelty=True, p=2)"
      ]
     },
     "execution_count": 13,
     "metadata": {},
     "output_type": "execute_result"
    }
   ],
   "source": [
    "lof = LOF(contamination=0.1, n_jobs=-1)\n",
    "lof.fit(X_train)"
   ]
  },
  {
   "cell_type": "code",
   "execution_count": 14,
   "metadata": {},
   "outputs": [
    {
     "data": {
      "text/plain": [
       "HBOS(alpha=0.1, contamination=0.1, n_bins=10, tol=0.5)"
      ]
     },
     "execution_count": 14,
     "metadata": {},
     "output_type": "execute_result"
    }
   ],
   "source": [
    "hbos = HBOS(contamination=0.1)\n",
    "hbos.fit(X_train)"
   ]
  },
  {
   "cell_type": "code",
   "execution_count": 15,
   "metadata": {},
   "outputs": [
    {
     "data": {
      "text/plain": [
       "KNN(algorithm='auto', contamination=0.1, leaf_size=30, method='largest',\n",
       "  metric='minkowski', metric_params=None, n_jobs=-1, n_neighbors=5, p=2,\n",
       "  radius=1.0)"
      ]
     },
     "execution_count": 15,
     "metadata": {},
     "output_type": "execute_result"
    }
   ],
   "source": [
    "knn = KNN(contamination=0.1, n_jobs=-1)\n",
    "knn.fit(X_train)"
   ]
  },
  {
   "cell_type": "code",
   "execution_count": 16,
   "metadata": {},
   "outputs": [
    {
     "data": {
      "text/plain": [
       "PCA(contamination=0.1, copy=True, iterated_power='auto', n_components=1,\n",
       "  n_selected_components=None, random_state=42, standardization=True,\n",
       "  svd_solver='auto', tol=0.0, weighted=True, whiten=False)"
      ]
     },
     "execution_count": 16,
     "metadata": {},
     "output_type": "execute_result"
    }
   ],
   "source": [
    "pca = PCA(contamination=0.1, n_components=1, random_state=42)\n",
    "pca.fit(X_train)"
   ]
  },
  {
   "cell_type": "code",
   "execution_count": 17,
   "metadata": {},
   "outputs": [],
   "source": [
    "train_pred_scores_iforest = iforest.decision_function(X_train.values).reshape(-1, 1)\n",
    "train_pred_scores_gmm = gmm.decision_function(X_train.values).reshape(-1, 1)\n",
    "train_pred_scores_lof = lof.decision_function(X_train.values).reshape(-1, 1)\n",
    "train_pred_scores_hbos = hbos.decision_function(X_train.values).reshape(-1, 1)\n",
    "train_pred_scores_knn = knn.decision_function(X_train.values).reshape(-1, 1)\n",
    "train_pred_scores_pca = pca.decision_function(X_train.values).reshape(-1, 1)\n",
    "\n",
    "test_pred_scores_iforest = iforest.decision_function(X_test.values).reshape(-1, 1)\n",
    "test_pred_scores_gmm = gmm.decision_function(X_test.values).reshape(-1, 1)\n",
    "test_pred_scores_lof = lof.decision_function(X_test.values).reshape(-1, 1)\n",
    "test_pred_scores_hbos = hbos.decision_function(X_test.values).reshape(-1, 1)\n",
    "test_pred_scores_knn = knn.decision_function(X_test.values).reshape(-1, 1)\n",
    "test_pred_scores_pca = pca.decision_function(X_test.values).reshape(-1, 1)"
   ]
  },
  {
   "cell_type": "code",
   "execution_count": 18,
   "metadata": {},
   "outputs": [],
   "source": [
    "# print(iforest.threshold_)\n",
    "# plt.hist(train_pred_scores_iforest, bins='auto')\n",
    "# plt.title(\"Outlier score\");"
   ]
  },
  {
   "cell_type": "code",
   "execution_count": 19,
   "metadata": {},
   "outputs": [],
   "source": [
    "# print(gmm.threshold_)\n",
    "# plt.hist(train_pred_scores_gmm, bins='auto')\n",
    "# plt.title(\"Outlier score\");"
   ]
  },
  {
   "cell_type": "code",
   "execution_count": 20,
   "metadata": {},
   "outputs": [],
   "source": [
    "# print(lof.threshold_)\n",
    "# plt.hist(train_pred_scores_lof, bins='auto')\n",
    "# plt.title(\"Outlier score\");"
   ]
  },
  {
   "cell_type": "code",
   "execution_count": 21,
   "metadata": {},
   "outputs": [],
   "source": [
    "features_list = X_train.columns"
   ]
  },
  {
   "cell_type": "code",
   "execution_count": 22,
   "metadata": {},
   "outputs": [
    {
     "name": "stdout",
     "output_type": "stream",
     "text": [
      "6.172202031699998e-17\n"
     ]
    },
    {
     "data": {
      "application/vnd.microsoft.datawrangler.viewer.v0+json": {
       "columns": [
        {
         "name": "index",
         "rawType": "object",
         "type": "string"
        },
        {
         "name": "0",
         "rawType": "object",
         "type": "unknown"
        },
        {
         "name": "1",
         "rawType": "object",
         "type": "unknown"
        }
       ],
       "conversionMethod": "pd.DataFrame",
       "ref": "2590214f-a214-445b-9e43-6f24ad77552f",
       "rows": [
        [
         "Group",
         "Normal",
         "Outlier"
        ],
        [
         "Count",
         "156699",
         "17411"
        ],
        [
         "Count %",
         "90.0",
         "10.0"
        ],
        [
         "minimum_nights",
         "11.21",
         "34.73"
        ],
        [
         "number_of_reviews",
         "29.34",
         "146.89"
        ],
        [
         "reviews_per_month",
         "1.12",
         "2.87"
        ],
        [
         "calculated_host_listings_count",
         "12.07",
         "189.26"
        ],
        [
         "availability_365",
         "178.12",
         "207.33"
        ],
        [
         "Anomaly_Score",
         "-0.1",
         "0.05"
        ]
       ],
       "shape": {
        "columns": 2,
        "rows": 9
       }
      },
      "text/html": [
       "<div>\n",
       "<style scoped>\n",
       "    .dataframe tbody tr th:only-of-type {\n",
       "        vertical-align: middle;\n",
       "    }\n",
       "\n",
       "    .dataframe tbody tr th {\n",
       "        vertical-align: top;\n",
       "    }\n",
       "\n",
       "    .dataframe thead th {\n",
       "        text-align: right;\n",
       "    }\n",
       "</style>\n",
       "<table border=\"1\" class=\"dataframe\">\n",
       "  <thead>\n",
       "    <tr style=\"text-align: right;\">\n",
       "      <th></th>\n",
       "      <th>0</th>\n",
       "      <th>1</th>\n",
       "    </tr>\n",
       "  </thead>\n",
       "  <tbody>\n",
       "    <tr>\n",
       "      <th>Group</th>\n",
       "      <td>Normal</td>\n",
       "      <td>Outlier</td>\n",
       "    </tr>\n",
       "    <tr>\n",
       "      <th>Count</th>\n",
       "      <td>156699</td>\n",
       "      <td>17411</td>\n",
       "    </tr>\n",
       "    <tr>\n",
       "      <th>Count %</th>\n",
       "      <td>90.0</td>\n",
       "      <td>10.0</td>\n",
       "    </tr>\n",
       "    <tr>\n",
       "      <th>minimum_nights</th>\n",
       "      <td>11.21</td>\n",
       "      <td>34.73</td>\n",
       "    </tr>\n",
       "    <tr>\n",
       "      <th>number_of_reviews</th>\n",
       "      <td>29.34</td>\n",
       "      <td>146.89</td>\n",
       "    </tr>\n",
       "    <tr>\n",
       "      <th>reviews_per_month</th>\n",
       "      <td>1.12</td>\n",
       "      <td>2.87</td>\n",
       "    </tr>\n",
       "    <tr>\n",
       "      <th>calculated_host_listings_count</th>\n",
       "      <td>12.07</td>\n",
       "      <td>189.26</td>\n",
       "    </tr>\n",
       "    <tr>\n",
       "      <th>availability_365</th>\n",
       "      <td>178.12</td>\n",
       "      <td>207.33</td>\n",
       "    </tr>\n",
       "    <tr>\n",
       "      <th>Anomaly_Score</th>\n",
       "      <td>-0.1</td>\n",
       "      <td>0.05</td>\n",
       "    </tr>\n",
       "  </tbody>\n",
       "</table>\n",
       "</div>"
      ],
      "text/plain": [
       "                                     0        1\n",
       "Group                           Normal  Outlier\n",
       "Count                           156699    17411\n",
       "Count %                           90.0     10.0\n",
       "minimum_nights                   11.21    34.73\n",
       "number_of_reviews                29.34   146.89\n",
       "reviews_per_month                 1.12     2.87\n",
       "calculated_host_listings_count   12.07   189.26\n",
       "availability_365                178.12   207.33\n",
       "Anomaly_Score                     -0.1     0.05"
      ]
     },
     "metadata": {},
     "output_type": "display_data"
    },
    {
     "data": {
      "application/vnd.microsoft.datawrangler.viewer.v0+json": {
       "columns": [
        {
         "name": "index",
         "rawType": "object",
         "type": "string"
        },
        {
         "name": "0",
         "rawType": "object",
         "type": "unknown"
        },
        {
         "name": "1",
         "rawType": "object",
         "type": "unknown"
        }
       ],
       "conversionMethod": "pd.DataFrame",
       "ref": "e3680534-8fec-496c-8a4d-068e852fa7fa",
       "rows": [
        [
         "Group",
         "Normal",
         "Outlier"
        ],
        [
         "Count",
         "52190",
         "5847"
        ],
        [
         "Count %",
         "89.92539242207556",
         "10.074607577924427"
        ],
        [
         "minimum_nights",
         "11.12",
         "32.7"
        ],
        [
         "number_of_reviews",
         "28.81",
         "143.66"
        ],
        [
         "reviews_per_month",
         "1.12",
         "2.84"
        ],
        [
         "calculated_host_listings_count",
         "12.01",
         "192.14"
        ],
        [
         "availability_365",
         "177.86",
         "207.32"
        ],
        [
         "Anomaly_Score",
         "-0.1",
         "0.05"
        ]
       ],
       "shape": {
        "columns": 2,
        "rows": 9
       }
      },
      "text/html": [
       "<div>\n",
       "<style scoped>\n",
       "    .dataframe tbody tr th:only-of-type {\n",
       "        vertical-align: middle;\n",
       "    }\n",
       "\n",
       "    .dataframe tbody tr th {\n",
       "        vertical-align: top;\n",
       "    }\n",
       "\n",
       "    .dataframe thead th {\n",
       "        text-align: right;\n",
       "    }\n",
       "</style>\n",
       "<table border=\"1\" class=\"dataframe\">\n",
       "  <thead>\n",
       "    <tr style=\"text-align: right;\">\n",
       "      <th></th>\n",
       "      <th>0</th>\n",
       "      <th>1</th>\n",
       "    </tr>\n",
       "  </thead>\n",
       "  <tbody>\n",
       "    <tr>\n",
       "      <th>Group</th>\n",
       "      <td>Normal</td>\n",
       "      <td>Outlier</td>\n",
       "    </tr>\n",
       "    <tr>\n",
       "      <th>Count</th>\n",
       "      <td>52190</td>\n",
       "      <td>5847</td>\n",
       "    </tr>\n",
       "    <tr>\n",
       "      <th>Count %</th>\n",
       "      <td>89.925392</td>\n",
       "      <td>10.074608</td>\n",
       "    </tr>\n",
       "    <tr>\n",
       "      <th>minimum_nights</th>\n",
       "      <td>11.12</td>\n",
       "      <td>32.7</td>\n",
       "    </tr>\n",
       "    <tr>\n",
       "      <th>number_of_reviews</th>\n",
       "      <td>28.81</td>\n",
       "      <td>143.66</td>\n",
       "    </tr>\n",
       "    <tr>\n",
       "      <th>reviews_per_month</th>\n",
       "      <td>1.12</td>\n",
       "      <td>2.84</td>\n",
       "    </tr>\n",
       "    <tr>\n",
       "      <th>calculated_host_listings_count</th>\n",
       "      <td>12.01</td>\n",
       "      <td>192.14</td>\n",
       "    </tr>\n",
       "    <tr>\n",
       "      <th>availability_365</th>\n",
       "      <td>177.86</td>\n",
       "      <td>207.32</td>\n",
       "    </tr>\n",
       "    <tr>\n",
       "      <th>Anomaly_Score</th>\n",
       "      <td>-0.1</td>\n",
       "      <td>0.05</td>\n",
       "    </tr>\n",
       "  </tbody>\n",
       "</table>\n",
       "</div>"
      ],
      "text/plain": [
       "                                        0          1\n",
       "Group                              Normal    Outlier\n",
       "Count                               52190       5847\n",
       "Count %                         89.925392  10.074608\n",
       "minimum_nights                      11.12       32.7\n",
       "number_of_reviews                   28.81     143.66\n",
       "reviews_per_month                    1.12       2.84\n",
       "calculated_host_listings_count      12.01     192.14\n",
       "availability_365                   177.86     207.32\n",
       "Anomaly_Score                        -0.1       0.05"
      ]
     },
     "metadata": {},
     "output_type": "display_data"
    }
   ],
   "source": [
    "threshold_iforest = iforest.threshold_\n",
    "print(threshold_iforest)\n",
    "display(descriptive_stat_threshold(X_train, features_list, train_pred_scores_iforest, threshold_iforest).T)\n",
    "display(descriptive_stat_threshold(X_test, features_list, test_pred_scores_iforest, threshold_iforest).T)"
   ]
  },
  {
   "cell_type": "code",
   "execution_count": 23,
   "metadata": {},
   "outputs": [
    {
     "name": "stdout",
     "output_type": "stream",
     "text": [
      "25.881760104818404\n"
     ]
    },
    {
     "data": {
      "application/vnd.microsoft.datawrangler.viewer.v0+json": {
       "columns": [
        {
         "name": "index",
         "rawType": "object",
         "type": "string"
        },
        {
         "name": "0",
         "rawType": "object",
         "type": "unknown"
        },
        {
         "name": "1",
         "rawType": "object",
         "type": "unknown"
        }
       ],
       "conversionMethod": "pd.DataFrame",
       "ref": "50c8800d-eb52-4a70-969d-e90d714d756a",
       "rows": [
        [
         "Group",
         "Normal",
         "Outlier"
        ],
        [
         "Count",
         "156699",
         "17411"
        ],
        [
         "Count %",
         "90.0",
         "10.0"
        ],
        [
         "minimum_nights",
         "11.38",
         "33.17"
        ],
        [
         "number_of_reviews",
         "29.57",
         "144.77"
        ],
        [
         "reviews_per_month",
         "1.06",
         "3.4"
        ],
        [
         "calculated_host_listings_count",
         "14.62",
         "166.29"
        ],
        [
         "availability_365",
         "178.63",
         "202.69"
        ],
        [
         "Anomaly_Score",
         "23.3",
         "37.41"
        ]
       ],
       "shape": {
        "columns": 2,
        "rows": 9
       }
      },
      "text/html": [
       "<div>\n",
       "<style scoped>\n",
       "    .dataframe tbody tr th:only-of-type {\n",
       "        vertical-align: middle;\n",
       "    }\n",
       "\n",
       "    .dataframe tbody tr th {\n",
       "        vertical-align: top;\n",
       "    }\n",
       "\n",
       "    .dataframe thead th {\n",
       "        text-align: right;\n",
       "    }\n",
       "</style>\n",
       "<table border=\"1\" class=\"dataframe\">\n",
       "  <thead>\n",
       "    <tr style=\"text-align: right;\">\n",
       "      <th></th>\n",
       "      <th>0</th>\n",
       "      <th>1</th>\n",
       "    </tr>\n",
       "  </thead>\n",
       "  <tbody>\n",
       "    <tr>\n",
       "      <th>Group</th>\n",
       "      <td>Normal</td>\n",
       "      <td>Outlier</td>\n",
       "    </tr>\n",
       "    <tr>\n",
       "      <th>Count</th>\n",
       "      <td>156699</td>\n",
       "      <td>17411</td>\n",
       "    </tr>\n",
       "    <tr>\n",
       "      <th>Count %</th>\n",
       "      <td>90.0</td>\n",
       "      <td>10.0</td>\n",
       "    </tr>\n",
       "    <tr>\n",
       "      <th>minimum_nights</th>\n",
       "      <td>11.38</td>\n",
       "      <td>33.17</td>\n",
       "    </tr>\n",
       "    <tr>\n",
       "      <th>number_of_reviews</th>\n",
       "      <td>29.57</td>\n",
       "      <td>144.77</td>\n",
       "    </tr>\n",
       "    <tr>\n",
       "      <th>reviews_per_month</th>\n",
       "      <td>1.06</td>\n",
       "      <td>3.4</td>\n",
       "    </tr>\n",
       "    <tr>\n",
       "      <th>calculated_host_listings_count</th>\n",
       "      <td>14.62</td>\n",
       "      <td>166.29</td>\n",
       "    </tr>\n",
       "    <tr>\n",
       "      <th>availability_365</th>\n",
       "      <td>178.63</td>\n",
       "      <td>202.69</td>\n",
       "    </tr>\n",
       "    <tr>\n",
       "      <th>Anomaly_Score</th>\n",
       "      <td>23.3</td>\n",
       "      <td>37.41</td>\n",
       "    </tr>\n",
       "  </tbody>\n",
       "</table>\n",
       "</div>"
      ],
      "text/plain": [
       "                                     0        1\n",
       "Group                           Normal  Outlier\n",
       "Count                           156699    17411\n",
       "Count %                           90.0     10.0\n",
       "minimum_nights                   11.38    33.17\n",
       "number_of_reviews                29.57   144.77\n",
       "reviews_per_month                 1.06      3.4\n",
       "calculated_host_listings_count   14.62   166.29\n",
       "availability_365                178.63   202.69\n",
       "Anomaly_Score                     23.3    37.41"
      ]
     },
     "metadata": {},
     "output_type": "display_data"
    },
    {
     "data": {
      "application/vnd.microsoft.datawrangler.viewer.v0+json": {
       "columns": [
        {
         "name": "index",
         "rawType": "object",
         "type": "string"
        },
        {
         "name": "0",
         "rawType": "object",
         "type": "unknown"
        },
        {
         "name": "1",
         "rawType": "object",
         "type": "unknown"
        }
       ],
       "conversionMethod": "pd.DataFrame",
       "ref": "1aaf3df3-a226-47af-a1ca-b6f9b8636336",
       "rows": [
        [
         "Group",
         "Normal",
         "Outlier"
        ],
        [
         "Count",
         "52118",
         "5919"
        ],
        [
         "Count %",
         "89.80133363199339",
         "10.198666368006617"
        ],
        [
         "minimum_nights",
         "11.32",
         "30.66"
        ],
        [
         "number_of_reviews",
         "28.83",
         "142.04"
        ],
        [
         "reviews_per_month",
         "1.05",
         "3.4"
        ],
        [
         "calculated_host_listings_count",
         "14.55",
         "167.58"
        ],
        [
         "availability_365",
         "178.18",
         "204.1"
        ],
        [
         "Anomaly_Score",
         "23.3",
         "35.53"
        ]
       ],
       "shape": {
        "columns": 2,
        "rows": 9
       }
      },
      "text/html": [
       "<div>\n",
       "<style scoped>\n",
       "    .dataframe tbody tr th:only-of-type {\n",
       "        vertical-align: middle;\n",
       "    }\n",
       "\n",
       "    .dataframe tbody tr th {\n",
       "        vertical-align: top;\n",
       "    }\n",
       "\n",
       "    .dataframe thead th {\n",
       "        text-align: right;\n",
       "    }\n",
       "</style>\n",
       "<table border=\"1\" class=\"dataframe\">\n",
       "  <thead>\n",
       "    <tr style=\"text-align: right;\">\n",
       "      <th></th>\n",
       "      <th>0</th>\n",
       "      <th>1</th>\n",
       "    </tr>\n",
       "  </thead>\n",
       "  <tbody>\n",
       "    <tr>\n",
       "      <th>Group</th>\n",
       "      <td>Normal</td>\n",
       "      <td>Outlier</td>\n",
       "    </tr>\n",
       "    <tr>\n",
       "      <th>Count</th>\n",
       "      <td>52118</td>\n",
       "      <td>5919</td>\n",
       "    </tr>\n",
       "    <tr>\n",
       "      <th>Count %</th>\n",
       "      <td>89.801334</td>\n",
       "      <td>10.198666</td>\n",
       "    </tr>\n",
       "    <tr>\n",
       "      <th>minimum_nights</th>\n",
       "      <td>11.32</td>\n",
       "      <td>30.66</td>\n",
       "    </tr>\n",
       "    <tr>\n",
       "      <th>number_of_reviews</th>\n",
       "      <td>28.83</td>\n",
       "      <td>142.04</td>\n",
       "    </tr>\n",
       "    <tr>\n",
       "      <th>reviews_per_month</th>\n",
       "      <td>1.05</td>\n",
       "      <td>3.4</td>\n",
       "    </tr>\n",
       "    <tr>\n",
       "      <th>calculated_host_listings_count</th>\n",
       "      <td>14.55</td>\n",
       "      <td>167.58</td>\n",
       "    </tr>\n",
       "    <tr>\n",
       "      <th>availability_365</th>\n",
       "      <td>178.18</td>\n",
       "      <td>204.1</td>\n",
       "    </tr>\n",
       "    <tr>\n",
       "      <th>Anomaly_Score</th>\n",
       "      <td>23.3</td>\n",
       "      <td>35.53</td>\n",
       "    </tr>\n",
       "  </tbody>\n",
       "</table>\n",
       "</div>"
      ],
      "text/plain": [
       "                                        0          1\n",
       "Group                              Normal    Outlier\n",
       "Count                               52118       5919\n",
       "Count %                         89.801334  10.198666\n",
       "minimum_nights                      11.32      30.66\n",
       "number_of_reviews                   28.83     142.04\n",
       "reviews_per_month                    1.05        3.4\n",
       "calculated_host_listings_count      14.55     167.58\n",
       "availability_365                   178.18      204.1\n",
       "Anomaly_Score                        23.3      35.53"
      ]
     },
     "metadata": {},
     "output_type": "display_data"
    }
   ],
   "source": [
    "threshold_gmm = gmm.threshold_\n",
    "print(threshold_gmm)\n",
    "display(descriptive_stat_threshold(X_train, features_list, train_pred_scores_gmm, threshold_gmm).T)\n",
    "display(descriptive_stat_threshold(X_test, features_list, test_pred_scores_gmm, threshold_gmm).T)"
   ]
  },
  {
   "cell_type": "code",
   "execution_count": 24,
   "metadata": {},
   "outputs": [
    {
     "name": "stdout",
     "output_type": "stream",
     "text": [
      "1.285801980966879\n"
     ]
    },
    {
     "data": {
      "application/vnd.microsoft.datawrangler.viewer.v0+json": {
       "columns": [
        {
         "name": "index",
         "rawType": "object",
         "type": "string"
        },
        {
         "name": "0",
         "rawType": "object",
         "type": "unknown"
        },
        {
         "name": "1",
         "rawType": "object",
         "type": "unknown"
        }
       ],
       "conversionMethod": "pd.DataFrame",
       "ref": "80010206-a812-44b4-81cd-7599e452a478",
       "rows": [
        [
         "Group",
         "Normal",
         "Outlier"
        ],
        [
         "Count",
         "158152",
         "15958"
        ],
        [
         "Count %",
         "90.83452989489403",
         "9.165470105105967"
        ],
        [
         "minimum_nights",
         "12.28",
         "26.29"
        ],
        [
         "number_of_reviews",
         "41.76",
         "34.44"
        ],
        [
         "reviews_per_month",
         "1.3",
         "1.23"
        ],
        [
         "calculated_host_listings_count",
         "28.49",
         "42.62"
        ],
        [
         "availability_365",
         "184.75",
         "144.3"
        ],
        [
         "Anomaly_Score",
         "1.04",
         "1493623369.99"
        ]
       ],
       "shape": {
        "columns": 2,
        "rows": 9
       }
      },
      "text/html": [
       "<div>\n",
       "<style scoped>\n",
       "    .dataframe tbody tr th:only-of-type {\n",
       "        vertical-align: middle;\n",
       "    }\n",
       "\n",
       "    .dataframe tbody tr th {\n",
       "        vertical-align: top;\n",
       "    }\n",
       "\n",
       "    .dataframe thead th {\n",
       "        text-align: right;\n",
       "    }\n",
       "</style>\n",
       "<table border=\"1\" class=\"dataframe\">\n",
       "  <thead>\n",
       "    <tr style=\"text-align: right;\">\n",
       "      <th></th>\n",
       "      <th>0</th>\n",
       "      <th>1</th>\n",
       "    </tr>\n",
       "  </thead>\n",
       "  <tbody>\n",
       "    <tr>\n",
       "      <th>Group</th>\n",
       "      <td>Normal</td>\n",
       "      <td>Outlier</td>\n",
       "    </tr>\n",
       "    <tr>\n",
       "      <th>Count</th>\n",
       "      <td>158152</td>\n",
       "      <td>15958</td>\n",
       "    </tr>\n",
       "    <tr>\n",
       "      <th>Count %</th>\n",
       "      <td>90.83453</td>\n",
       "      <td>9.16547</td>\n",
       "    </tr>\n",
       "    <tr>\n",
       "      <th>minimum_nights</th>\n",
       "      <td>12.28</td>\n",
       "      <td>26.29</td>\n",
       "    </tr>\n",
       "    <tr>\n",
       "      <th>number_of_reviews</th>\n",
       "      <td>41.76</td>\n",
       "      <td>34.44</td>\n",
       "    </tr>\n",
       "    <tr>\n",
       "      <th>reviews_per_month</th>\n",
       "      <td>1.3</td>\n",
       "      <td>1.23</td>\n",
       "    </tr>\n",
       "    <tr>\n",
       "      <th>calculated_host_listings_count</th>\n",
       "      <td>28.49</td>\n",
       "      <td>42.62</td>\n",
       "    </tr>\n",
       "    <tr>\n",
       "      <th>availability_365</th>\n",
       "      <td>184.75</td>\n",
       "      <td>144.3</td>\n",
       "    </tr>\n",
       "    <tr>\n",
       "      <th>Anomaly_Score</th>\n",
       "      <td>1.04</td>\n",
       "      <td>1493623369.99</td>\n",
       "    </tr>\n",
       "  </tbody>\n",
       "</table>\n",
       "</div>"
      ],
      "text/plain": [
       "                                       0              1\n",
       "Group                             Normal        Outlier\n",
       "Count                             158152          15958\n",
       "Count %                         90.83453        9.16547\n",
       "minimum_nights                     12.28          26.29\n",
       "number_of_reviews                  41.76          34.44\n",
       "reviews_per_month                    1.3           1.23\n",
       "calculated_host_listings_count     28.49          42.62\n",
       "availability_365                  184.75          144.3\n",
       "Anomaly_Score                       1.04  1493623369.99"
      ]
     },
     "metadata": {},
     "output_type": "display_data"
    },
    {
     "data": {
      "application/vnd.microsoft.datawrangler.viewer.v0+json": {
       "columns": [
        {
         "name": "index",
         "rawType": "object",
         "type": "string"
        },
        {
         "name": "0",
         "rawType": "object",
         "type": "unknown"
        },
        {
         "name": "1",
         "rawType": "object",
         "type": "unknown"
        }
       ],
       "conversionMethod": "pd.DataFrame",
       "ref": "69fc2e35-d361-4e87-b471-c87625f6b095",
       "rows": [
        [
         "Group",
         "Normal",
         "Outlier"
        ],
        [
         "Count",
         "52102",
         "5935"
        ],
        [
         "Count %",
         "89.77376501197512",
         "10.226234988024881"
        ],
        [
         "minimum_nights",
         "11.92",
         "25.35"
        ],
        [
         "number_of_reviews",
         "41.24",
         "32.85"
        ],
        [
         "reviews_per_month",
         "1.3",
         "1.23"
        ],
        [
         "calculated_host_listings_count",
         "28.56",
         "44.22"
        ],
        [
         "availability_365",
         "184.61",
         "147.59"
        ],
        [
         "Anomaly_Score",
         "1.04",
         "1815244307.31"
        ]
       ],
       "shape": {
        "columns": 2,
        "rows": 9
       }
      },
      "text/html": [
       "<div>\n",
       "<style scoped>\n",
       "    .dataframe tbody tr th:only-of-type {\n",
       "        vertical-align: middle;\n",
       "    }\n",
       "\n",
       "    .dataframe tbody tr th {\n",
       "        vertical-align: top;\n",
       "    }\n",
       "\n",
       "    .dataframe thead th {\n",
       "        text-align: right;\n",
       "    }\n",
       "</style>\n",
       "<table border=\"1\" class=\"dataframe\">\n",
       "  <thead>\n",
       "    <tr style=\"text-align: right;\">\n",
       "      <th></th>\n",
       "      <th>0</th>\n",
       "      <th>1</th>\n",
       "    </tr>\n",
       "  </thead>\n",
       "  <tbody>\n",
       "    <tr>\n",
       "      <th>Group</th>\n",
       "      <td>Normal</td>\n",
       "      <td>Outlier</td>\n",
       "    </tr>\n",
       "    <tr>\n",
       "      <th>Count</th>\n",
       "      <td>52102</td>\n",
       "      <td>5935</td>\n",
       "    </tr>\n",
       "    <tr>\n",
       "      <th>Count %</th>\n",
       "      <td>89.773765</td>\n",
       "      <td>10.226235</td>\n",
       "    </tr>\n",
       "    <tr>\n",
       "      <th>minimum_nights</th>\n",
       "      <td>11.92</td>\n",
       "      <td>25.35</td>\n",
       "    </tr>\n",
       "    <tr>\n",
       "      <th>number_of_reviews</th>\n",
       "      <td>41.24</td>\n",
       "      <td>32.85</td>\n",
       "    </tr>\n",
       "    <tr>\n",
       "      <th>reviews_per_month</th>\n",
       "      <td>1.3</td>\n",
       "      <td>1.23</td>\n",
       "    </tr>\n",
       "    <tr>\n",
       "      <th>calculated_host_listings_count</th>\n",
       "      <td>28.56</td>\n",
       "      <td>44.22</td>\n",
       "    </tr>\n",
       "    <tr>\n",
       "      <th>availability_365</th>\n",
       "      <td>184.61</td>\n",
       "      <td>147.59</td>\n",
       "    </tr>\n",
       "    <tr>\n",
       "      <th>Anomaly_Score</th>\n",
       "      <td>1.04</td>\n",
       "      <td>1815244307.31</td>\n",
       "    </tr>\n",
       "  </tbody>\n",
       "</table>\n",
       "</div>"
      ],
      "text/plain": [
       "                                        0              1\n",
       "Group                              Normal        Outlier\n",
       "Count                               52102           5935\n",
       "Count %                         89.773765      10.226235\n",
       "minimum_nights                      11.92          25.35\n",
       "number_of_reviews                   41.24          32.85\n",
       "reviews_per_month                     1.3           1.23\n",
       "calculated_host_listings_count      28.56          44.22\n",
       "availability_365                   184.61         147.59\n",
       "Anomaly_Score                        1.04  1815244307.31"
      ]
     },
     "metadata": {},
     "output_type": "display_data"
    }
   ],
   "source": [
    "threshold_lof = lof.threshold_\n",
    "print(threshold_lof)\n",
    "display(descriptive_stat_threshold(X_train, features_list, train_pred_scores_lof, threshold_lof).T)\n",
    "display(descriptive_stat_threshold(X_test, features_list, test_pred_scores_lof, threshold_lof).T)"
   ]
  },
  {
   "cell_type": "code",
   "execution_count": 25,
   "metadata": {},
   "outputs": [
    {
     "name": "stdout",
     "output_type": "stream",
     "text": [
      "15.321686802766044\n"
     ]
    },
    {
     "data": {
      "application/vnd.microsoft.datawrangler.viewer.v0+json": {
       "columns": [
        {
         "name": "index",
         "rawType": "object",
         "type": "string"
        },
        {
         "name": "0",
         "rawType": "object",
         "type": "unknown"
        },
        {
         "name": "1",
         "rawType": "object",
         "type": "unknown"
        }
       ],
       "conversionMethod": "pd.DataFrame",
       "ref": "e7f68ced-08bb-44d2-9c12-9c62463d9236",
       "rows": [
        [
         "Group",
         "Normal",
         "Outlier"
        ],
        [
         "Count",
         "153729",
         "20381"
        ],
        [
         "Count %",
         "88.29418183906725",
         "11.705818160932743"
        ],
        [
         "minimum_nights",
         "11.47",
         "29.34"
        ],
        [
         "number_of_reviews",
         "36.55",
         "75.36"
        ],
        [
         "reviews_per_month",
         "1.26",
         "1.55"
        ],
        [
         "calculated_host_listings_count",
         "8.9",
         "187.34"
        ],
        [
         "availability_365",
         "175.66",
         "221.58"
        ],
        [
         "Anomaly_Score",
         "15.28",
         "15.39"
        ]
       ],
       "shape": {
        "columns": 2,
        "rows": 9
       }
      },
      "text/html": [
       "<div>\n",
       "<style scoped>\n",
       "    .dataframe tbody tr th:only-of-type {\n",
       "        vertical-align: middle;\n",
       "    }\n",
       "\n",
       "    .dataframe tbody tr th {\n",
       "        vertical-align: top;\n",
       "    }\n",
       "\n",
       "    .dataframe thead th {\n",
       "        text-align: right;\n",
       "    }\n",
       "</style>\n",
       "<table border=\"1\" class=\"dataframe\">\n",
       "  <thead>\n",
       "    <tr style=\"text-align: right;\">\n",
       "      <th></th>\n",
       "      <th>0</th>\n",
       "      <th>1</th>\n",
       "    </tr>\n",
       "  </thead>\n",
       "  <tbody>\n",
       "    <tr>\n",
       "      <th>Group</th>\n",
       "      <td>Normal</td>\n",
       "      <td>Outlier</td>\n",
       "    </tr>\n",
       "    <tr>\n",
       "      <th>Count</th>\n",
       "      <td>153729</td>\n",
       "      <td>20381</td>\n",
       "    </tr>\n",
       "    <tr>\n",
       "      <th>Count %</th>\n",
       "      <td>88.294182</td>\n",
       "      <td>11.705818</td>\n",
       "    </tr>\n",
       "    <tr>\n",
       "      <th>minimum_nights</th>\n",
       "      <td>11.47</td>\n",
       "      <td>29.34</td>\n",
       "    </tr>\n",
       "    <tr>\n",
       "      <th>number_of_reviews</th>\n",
       "      <td>36.55</td>\n",
       "      <td>75.36</td>\n",
       "    </tr>\n",
       "    <tr>\n",
       "      <th>reviews_per_month</th>\n",
       "      <td>1.26</td>\n",
       "      <td>1.55</td>\n",
       "    </tr>\n",
       "    <tr>\n",
       "      <th>calculated_host_listings_count</th>\n",
       "      <td>8.9</td>\n",
       "      <td>187.34</td>\n",
       "    </tr>\n",
       "    <tr>\n",
       "      <th>availability_365</th>\n",
       "      <td>175.66</td>\n",
       "      <td>221.58</td>\n",
       "    </tr>\n",
       "    <tr>\n",
       "      <th>Anomaly_Score</th>\n",
       "      <td>15.28</td>\n",
       "      <td>15.39</td>\n",
       "    </tr>\n",
       "  </tbody>\n",
       "</table>\n",
       "</div>"
      ],
      "text/plain": [
       "                                        0          1\n",
       "Group                              Normal    Outlier\n",
       "Count                              153729      20381\n",
       "Count %                         88.294182  11.705818\n",
       "minimum_nights                      11.47      29.34\n",
       "number_of_reviews                   36.55      75.36\n",
       "reviews_per_month                    1.26       1.55\n",
       "calculated_host_listings_count        8.9     187.34\n",
       "availability_365                   175.66     221.58\n",
       "Anomaly_Score                       15.28      15.39"
      ]
     },
     "metadata": {},
     "output_type": "display_data"
    },
    {
     "data": {
      "application/vnd.microsoft.datawrangler.viewer.v0+json": {
       "columns": [
        {
         "name": "index",
         "rawType": "object",
         "type": "string"
        },
        {
         "name": "0",
         "rawType": "object",
         "type": "unknown"
        },
        {
         "name": "1",
         "rawType": "object",
         "type": "unknown"
        }
       ],
       "conversionMethod": "pd.DataFrame",
       "ref": "d6fc1207-3a7d-4280-b2ff-01a1328c007f",
       "rows": [
        [
         "Group",
         "Normal",
         "Outlier"
        ],
        [
         "Count",
         "51253",
         "6784"
        ],
        [
         "Count %",
         "88.31090511225598",
         "11.689094887744025"
        ],
        [
         "minimum_nights",
         "11.35",
         "27.97"
        ],
        [
         "number_of_reviews",
         "35.9",
         "74.25"
        ],
        [
         "reviews_per_month",
         "1.26",
         "1.52"
        ],
        [
         "calculated_host_listings_count",
         "8.87",
         "191.01"
        ],
        [
         "availability_365",
         "175.53",
         "220.81"
        ],
        [
         "Anomaly_Score",
         "15.28",
         "15.39"
        ]
       ],
       "shape": {
        "columns": 2,
        "rows": 9
       }
      },
      "text/html": [
       "<div>\n",
       "<style scoped>\n",
       "    .dataframe tbody tr th:only-of-type {\n",
       "        vertical-align: middle;\n",
       "    }\n",
       "\n",
       "    .dataframe tbody tr th {\n",
       "        vertical-align: top;\n",
       "    }\n",
       "\n",
       "    .dataframe thead th {\n",
       "        text-align: right;\n",
       "    }\n",
       "</style>\n",
       "<table border=\"1\" class=\"dataframe\">\n",
       "  <thead>\n",
       "    <tr style=\"text-align: right;\">\n",
       "      <th></th>\n",
       "      <th>0</th>\n",
       "      <th>1</th>\n",
       "    </tr>\n",
       "  </thead>\n",
       "  <tbody>\n",
       "    <tr>\n",
       "      <th>Group</th>\n",
       "      <td>Normal</td>\n",
       "      <td>Outlier</td>\n",
       "    </tr>\n",
       "    <tr>\n",
       "      <th>Count</th>\n",
       "      <td>51253</td>\n",
       "      <td>6784</td>\n",
       "    </tr>\n",
       "    <tr>\n",
       "      <th>Count %</th>\n",
       "      <td>88.310905</td>\n",
       "      <td>11.689095</td>\n",
       "    </tr>\n",
       "    <tr>\n",
       "      <th>minimum_nights</th>\n",
       "      <td>11.35</td>\n",
       "      <td>27.97</td>\n",
       "    </tr>\n",
       "    <tr>\n",
       "      <th>number_of_reviews</th>\n",
       "      <td>35.9</td>\n",
       "      <td>74.25</td>\n",
       "    </tr>\n",
       "    <tr>\n",
       "      <th>reviews_per_month</th>\n",
       "      <td>1.26</td>\n",
       "      <td>1.52</td>\n",
       "    </tr>\n",
       "    <tr>\n",
       "      <th>calculated_host_listings_count</th>\n",
       "      <td>8.87</td>\n",
       "      <td>191.01</td>\n",
       "    </tr>\n",
       "    <tr>\n",
       "      <th>availability_365</th>\n",
       "      <td>175.53</td>\n",
       "      <td>220.81</td>\n",
       "    </tr>\n",
       "    <tr>\n",
       "      <th>Anomaly_Score</th>\n",
       "      <td>15.28</td>\n",
       "      <td>15.39</td>\n",
       "    </tr>\n",
       "  </tbody>\n",
       "</table>\n",
       "</div>"
      ],
      "text/plain": [
       "                                        0          1\n",
       "Group                              Normal    Outlier\n",
       "Count                               51253       6784\n",
       "Count %                         88.310905  11.689095\n",
       "minimum_nights                      11.35      27.97\n",
       "number_of_reviews                    35.9      74.25\n",
       "reviews_per_month                    1.26       1.52\n",
       "calculated_host_listings_count       8.87     191.01\n",
       "availability_365                   175.53     220.81\n",
       "Anomaly_Score                       15.28      15.39"
      ]
     },
     "metadata": {},
     "output_type": "display_data"
    }
   ],
   "source": [
    "threshold_hbos = hbos.threshold_\n",
    "print(threshold_hbos)\n",
    "display(descriptive_stat_threshold(X_train, features_list, train_pred_scores_hbos, threshold_hbos).T)\n",
    "display(descriptive_stat_threshold(X_test, features_list, test_pred_scores_hbos, threshold_hbos).T)"
   ]
  },
  {
   "cell_type": "code",
   "execution_count": 26,
   "metadata": {},
   "outputs": [
    {
     "name": "stdout",
     "output_type": "stream",
     "text": [
      "6.158319572905702\n"
     ]
    },
    {
     "data": {
      "application/vnd.microsoft.datawrangler.viewer.v0+json": {
       "columns": [
        {
         "name": "index",
         "rawType": "object",
         "type": "string"
        },
        {
         "name": "0",
         "rawType": "object",
         "type": "unknown"
        },
        {
         "name": "1",
         "rawType": "object",
         "type": "unknown"
        }
       ],
       "conversionMethod": "pd.DataFrame",
       "ref": "b88170ff-1590-4ce3-a2b3-d0a634125d67",
       "rows": [
        [
         "Group",
         "Normal",
         "Outlier"
        ],
        [
         "Count",
         "159112",
         "14998"
        ],
        [
         "Count %",
         "91.38590546206422",
         "8.614094537935788"
        ],
        [
         "minimum_nights",
         "12.71",
         "22.57"
        ],
        [
         "number_of_reviews",
         "30.96",
         "148.55"
        ],
        [
         "reviews_per_month",
         "1.13",
         "2.98"
        ],
        [
         "calculated_host_listings_count",
         "28.53",
         "43.1"
        ],
        [
         "availability_365",
         "179.65",
         "195.81"
        ],
        [
         "Anomaly_Score",
         "2.0",
         "11.68"
        ]
       ],
       "shape": {
        "columns": 2,
        "rows": 9
       }
      },
      "text/html": [
       "<div>\n",
       "<style scoped>\n",
       "    .dataframe tbody tr th:only-of-type {\n",
       "        vertical-align: middle;\n",
       "    }\n",
       "\n",
       "    .dataframe tbody tr th {\n",
       "        vertical-align: top;\n",
       "    }\n",
       "\n",
       "    .dataframe thead th {\n",
       "        text-align: right;\n",
       "    }\n",
       "</style>\n",
       "<table border=\"1\" class=\"dataframe\">\n",
       "  <thead>\n",
       "    <tr style=\"text-align: right;\">\n",
       "      <th></th>\n",
       "      <th>0</th>\n",
       "      <th>1</th>\n",
       "    </tr>\n",
       "  </thead>\n",
       "  <tbody>\n",
       "    <tr>\n",
       "      <th>Group</th>\n",
       "      <td>Normal</td>\n",
       "      <td>Outlier</td>\n",
       "    </tr>\n",
       "    <tr>\n",
       "      <th>Count</th>\n",
       "      <td>159112</td>\n",
       "      <td>14998</td>\n",
       "    </tr>\n",
       "    <tr>\n",
       "      <th>Count %</th>\n",
       "      <td>91.385905</td>\n",
       "      <td>8.614095</td>\n",
       "    </tr>\n",
       "    <tr>\n",
       "      <th>minimum_nights</th>\n",
       "      <td>12.71</td>\n",
       "      <td>22.57</td>\n",
       "    </tr>\n",
       "    <tr>\n",
       "      <th>number_of_reviews</th>\n",
       "      <td>30.96</td>\n",
       "      <td>148.55</td>\n",
       "    </tr>\n",
       "    <tr>\n",
       "      <th>reviews_per_month</th>\n",
       "      <td>1.13</td>\n",
       "      <td>2.98</td>\n",
       "    </tr>\n",
       "    <tr>\n",
       "      <th>calculated_host_listings_count</th>\n",
       "      <td>28.53</td>\n",
       "      <td>43.1</td>\n",
       "    </tr>\n",
       "    <tr>\n",
       "      <th>availability_365</th>\n",
       "      <td>179.65</td>\n",
       "      <td>195.81</td>\n",
       "    </tr>\n",
       "    <tr>\n",
       "      <th>Anomaly_Score</th>\n",
       "      <td>2.0</td>\n",
       "      <td>11.68</td>\n",
       "    </tr>\n",
       "  </tbody>\n",
       "</table>\n",
       "</div>"
      ],
      "text/plain": [
       "                                        0         1\n",
       "Group                              Normal   Outlier\n",
       "Count                              159112     14998\n",
       "Count %                         91.385905  8.614095\n",
       "minimum_nights                      12.71     22.57\n",
       "number_of_reviews                   30.96    148.55\n",
       "reviews_per_month                    1.13      2.98\n",
       "calculated_host_listings_count      28.53      43.1\n",
       "availability_365                   179.65    195.81\n",
       "Anomaly_Score                         2.0     11.68"
      ]
     },
     "metadata": {},
     "output_type": "display_data"
    },
    {
     "data": {
      "application/vnd.microsoft.datawrangler.viewer.v0+json": {
       "columns": [
        {
         "name": "index",
         "rawType": "object",
         "type": "string"
        },
        {
         "name": "0",
         "rawType": "object",
         "type": "unknown"
        },
        {
         "name": "1",
         "rawType": "object",
         "type": "unknown"
        }
       ],
       "conversionMethod": "pd.DataFrame",
       "ref": "078936c2-9d56-48fd-8c3d-f676b576dc92",
       "rows": [
        [
         "Group",
         "Normal",
         "Outlier"
        ],
        [
         "Count",
         "52296",
         "5741"
        ],
        [
         "Count %",
         "90.10803452969657",
         "9.891965470303427"
        ],
        [
         "minimum_nights",
         "12.57",
         "19.91"
        ],
        [
         "number_of_reviews",
         "29.43",
         "140.09"
        ],
        [
         "reviews_per_month",
         "1.12",
         "2.85"
        ],
        [
         "calculated_host_listings_count",
         "28.48",
         "45.42"
        ],
        [
         "availability_365",
         "179.18",
         "195.79"
        ],
        [
         "Anomaly_Score",
         "2.09",
         "11.46"
        ]
       ],
       "shape": {
        "columns": 2,
        "rows": 9
       }
      },
      "text/html": [
       "<div>\n",
       "<style scoped>\n",
       "    .dataframe tbody tr th:only-of-type {\n",
       "        vertical-align: middle;\n",
       "    }\n",
       "\n",
       "    .dataframe tbody tr th {\n",
       "        vertical-align: top;\n",
       "    }\n",
       "\n",
       "    .dataframe thead th {\n",
       "        text-align: right;\n",
       "    }\n",
       "</style>\n",
       "<table border=\"1\" class=\"dataframe\">\n",
       "  <thead>\n",
       "    <tr style=\"text-align: right;\">\n",
       "      <th></th>\n",
       "      <th>0</th>\n",
       "      <th>1</th>\n",
       "    </tr>\n",
       "  </thead>\n",
       "  <tbody>\n",
       "    <tr>\n",
       "      <th>Group</th>\n",
       "      <td>Normal</td>\n",
       "      <td>Outlier</td>\n",
       "    </tr>\n",
       "    <tr>\n",
       "      <th>Count</th>\n",
       "      <td>52296</td>\n",
       "      <td>5741</td>\n",
       "    </tr>\n",
       "    <tr>\n",
       "      <th>Count %</th>\n",
       "      <td>90.108035</td>\n",
       "      <td>9.891965</td>\n",
       "    </tr>\n",
       "    <tr>\n",
       "      <th>minimum_nights</th>\n",
       "      <td>12.57</td>\n",
       "      <td>19.91</td>\n",
       "    </tr>\n",
       "    <tr>\n",
       "      <th>number_of_reviews</th>\n",
       "      <td>29.43</td>\n",
       "      <td>140.09</td>\n",
       "    </tr>\n",
       "    <tr>\n",
       "      <th>reviews_per_month</th>\n",
       "      <td>1.12</td>\n",
       "      <td>2.85</td>\n",
       "    </tr>\n",
       "    <tr>\n",
       "      <th>calculated_host_listings_count</th>\n",
       "      <td>28.48</td>\n",
       "      <td>45.42</td>\n",
       "    </tr>\n",
       "    <tr>\n",
       "      <th>availability_365</th>\n",
       "      <td>179.18</td>\n",
       "      <td>195.79</td>\n",
       "    </tr>\n",
       "    <tr>\n",
       "      <th>Anomaly_Score</th>\n",
       "      <td>2.09</td>\n",
       "      <td>11.46</td>\n",
       "    </tr>\n",
       "  </tbody>\n",
       "</table>\n",
       "</div>"
      ],
      "text/plain": [
       "                                        0         1\n",
       "Group                              Normal   Outlier\n",
       "Count                               52296      5741\n",
       "Count %                         90.108035  9.891965\n",
       "minimum_nights                      12.57     19.91\n",
       "number_of_reviews                   29.43    140.09\n",
       "reviews_per_month                    1.12      2.85\n",
       "calculated_host_listings_count      28.48     45.42\n",
       "availability_365                   179.18    195.79\n",
       "Anomaly_Score                        2.09     11.46"
      ]
     },
     "metadata": {},
     "output_type": "display_data"
    }
   ],
   "source": [
    "threshold_knn = knn.threshold_\n",
    "print(threshold_knn)\n",
    "display(descriptive_stat_threshold(X_train, features_list, train_pred_scores_knn, threshold_knn).T)\n",
    "display(descriptive_stat_threshold(X_test, features_list, test_pred_scores_knn, threshold_knn).T)"
   ]
  },
  {
   "cell_type": "code",
   "execution_count": 27,
   "metadata": {},
   "outputs": [
    {
     "name": "stdout",
     "output_type": "stream",
     "text": [
      "7.02707722113767\n"
     ]
    },
    {
     "data": {
      "application/vnd.microsoft.datawrangler.viewer.v0+json": {
       "columns": [
        {
         "name": "index",
         "rawType": "object",
         "type": "string"
        },
        {
         "name": "0",
         "rawType": "object",
         "type": "unknown"
        },
        {
         "name": "1",
         "rawType": "object",
         "type": "unknown"
        }
       ],
       "conversionMethod": "pd.DataFrame",
       "ref": "ad397390-b849-4f96-9de7-86a97f35a362",
       "rows": [
        [
         "Group",
         "Normal",
         "Outlier"
        ],
        [
         "Count",
         "156699",
         "17411"
        ],
        [
         "Count %",
         "90.0",
         "10.0"
        ],
        [
         "minimum_nights",
         "10.67",
         "39.63"
        ],
        [
         "number_of_reviews",
         "32.34",
         "119.89"
        ],
        [
         "reviews_per_month",
         "1.17",
         "2.39"
        ],
        [
         "calculated_host_listings_count",
         "11.24",
         "196.7"
        ],
        [
         "availability_365",
         "177.63",
         "211.71"
        ],
        [
         "Anomaly_Score",
         "4.97",
         "13.11"
        ]
       ],
       "shape": {
        "columns": 2,
        "rows": 9
       }
      },
      "text/html": [
       "<div>\n",
       "<style scoped>\n",
       "    .dataframe tbody tr th:only-of-type {\n",
       "        vertical-align: middle;\n",
       "    }\n",
       "\n",
       "    .dataframe tbody tr th {\n",
       "        vertical-align: top;\n",
       "    }\n",
       "\n",
       "    .dataframe thead th {\n",
       "        text-align: right;\n",
       "    }\n",
       "</style>\n",
       "<table border=\"1\" class=\"dataframe\">\n",
       "  <thead>\n",
       "    <tr style=\"text-align: right;\">\n",
       "      <th></th>\n",
       "      <th>0</th>\n",
       "      <th>1</th>\n",
       "    </tr>\n",
       "  </thead>\n",
       "  <tbody>\n",
       "    <tr>\n",
       "      <th>Group</th>\n",
       "      <td>Normal</td>\n",
       "      <td>Outlier</td>\n",
       "    </tr>\n",
       "    <tr>\n",
       "      <th>Count</th>\n",
       "      <td>156699</td>\n",
       "      <td>17411</td>\n",
       "    </tr>\n",
       "    <tr>\n",
       "      <th>Count %</th>\n",
       "      <td>90.0</td>\n",
       "      <td>10.0</td>\n",
       "    </tr>\n",
       "    <tr>\n",
       "      <th>minimum_nights</th>\n",
       "      <td>10.67</td>\n",
       "      <td>39.63</td>\n",
       "    </tr>\n",
       "    <tr>\n",
       "      <th>number_of_reviews</th>\n",
       "      <td>32.34</td>\n",
       "      <td>119.89</td>\n",
       "    </tr>\n",
       "    <tr>\n",
       "      <th>reviews_per_month</th>\n",
       "      <td>1.17</td>\n",
       "      <td>2.39</td>\n",
       "    </tr>\n",
       "    <tr>\n",
       "      <th>calculated_host_listings_count</th>\n",
       "      <td>11.24</td>\n",
       "      <td>196.7</td>\n",
       "    </tr>\n",
       "    <tr>\n",
       "      <th>availability_365</th>\n",
       "      <td>177.63</td>\n",
       "      <td>211.71</td>\n",
       "    </tr>\n",
       "    <tr>\n",
       "      <th>Anomaly_Score</th>\n",
       "      <td>4.97</td>\n",
       "      <td>13.11</td>\n",
       "    </tr>\n",
       "  </tbody>\n",
       "</table>\n",
       "</div>"
      ],
      "text/plain": [
       "                                     0        1\n",
       "Group                           Normal  Outlier\n",
       "Count                           156699    17411\n",
       "Count %                           90.0     10.0\n",
       "minimum_nights                   10.67    39.63\n",
       "number_of_reviews                32.34   119.89\n",
       "reviews_per_month                 1.17     2.39\n",
       "calculated_host_listings_count   11.24    196.7\n",
       "availability_365                177.63   211.71\n",
       "Anomaly_Score                     4.97    13.11"
      ]
     },
     "metadata": {},
     "output_type": "display_data"
    },
    {
     "data": {
      "application/vnd.microsoft.datawrangler.viewer.v0+json": {
       "columns": [
        {
         "name": "index",
         "rawType": "object",
         "type": "string"
        },
        {
         "name": "0",
         "rawType": "object",
         "type": "unknown"
        },
        {
         "name": "1",
         "rawType": "object",
         "type": "unknown"
        }
       ],
       "conversionMethod": "pd.DataFrame",
       "ref": "1038f6a1-2920-40f4-82f9-8aa76d4628bc",
       "rows": [
        [
         "Group",
         "Normal",
         "Outlier"
        ],
        [
         "Count",
         "52159",
         "5878"
        ],
        [
         "Count %",
         "89.87197822079018",
         "10.128021779209814"
        ],
        [
         "minimum_nights",
         "10.59",
         "37.33"
        ],
        [
         "number_of_reviews",
         "31.66",
         "117.73"
        ],
        [
         "reviews_per_month",
         "1.17",
         "2.39"
        ],
        [
         "calculated_host_listings_count",
         "11.16",
         "198.72"
        ],
        [
         "availability_365",
         "177.31",
         "211.98"
        ],
        [
         "Anomaly_Score",
         "4.97",
         "12.84"
        ]
       ],
       "shape": {
        "columns": 2,
        "rows": 9
       }
      },
      "text/html": [
       "<div>\n",
       "<style scoped>\n",
       "    .dataframe tbody tr th:only-of-type {\n",
       "        vertical-align: middle;\n",
       "    }\n",
       "\n",
       "    .dataframe tbody tr th {\n",
       "        vertical-align: top;\n",
       "    }\n",
       "\n",
       "    .dataframe thead th {\n",
       "        text-align: right;\n",
       "    }\n",
       "</style>\n",
       "<table border=\"1\" class=\"dataframe\">\n",
       "  <thead>\n",
       "    <tr style=\"text-align: right;\">\n",
       "      <th></th>\n",
       "      <th>0</th>\n",
       "      <th>1</th>\n",
       "    </tr>\n",
       "  </thead>\n",
       "  <tbody>\n",
       "    <tr>\n",
       "      <th>Group</th>\n",
       "      <td>Normal</td>\n",
       "      <td>Outlier</td>\n",
       "    </tr>\n",
       "    <tr>\n",
       "      <th>Count</th>\n",
       "      <td>52159</td>\n",
       "      <td>5878</td>\n",
       "    </tr>\n",
       "    <tr>\n",
       "      <th>Count %</th>\n",
       "      <td>89.871978</td>\n",
       "      <td>10.128022</td>\n",
       "    </tr>\n",
       "    <tr>\n",
       "      <th>minimum_nights</th>\n",
       "      <td>10.59</td>\n",
       "      <td>37.33</td>\n",
       "    </tr>\n",
       "    <tr>\n",
       "      <th>number_of_reviews</th>\n",
       "      <td>31.66</td>\n",
       "      <td>117.73</td>\n",
       "    </tr>\n",
       "    <tr>\n",
       "      <th>reviews_per_month</th>\n",
       "      <td>1.17</td>\n",
       "      <td>2.39</td>\n",
       "    </tr>\n",
       "    <tr>\n",
       "      <th>calculated_host_listings_count</th>\n",
       "      <td>11.16</td>\n",
       "      <td>198.72</td>\n",
       "    </tr>\n",
       "    <tr>\n",
       "      <th>availability_365</th>\n",
       "      <td>177.31</td>\n",
       "      <td>211.98</td>\n",
       "    </tr>\n",
       "    <tr>\n",
       "      <th>Anomaly_Score</th>\n",
       "      <td>4.97</td>\n",
       "      <td>12.84</td>\n",
       "    </tr>\n",
       "  </tbody>\n",
       "</table>\n",
       "</div>"
      ],
      "text/plain": [
       "                                        0          1\n",
       "Group                              Normal    Outlier\n",
       "Count                               52159       5878\n",
       "Count %                         89.871978  10.128022\n",
       "minimum_nights                      10.59      37.33\n",
       "number_of_reviews                   31.66     117.73\n",
       "reviews_per_month                    1.17       2.39\n",
       "calculated_host_listings_count      11.16     198.72\n",
       "availability_365                   177.31     211.98\n",
       "Anomaly_Score                        4.97      12.84"
      ]
     },
     "metadata": {},
     "output_type": "display_data"
    }
   ],
   "source": [
    "threshold_pca = pca.threshold_\n",
    "print(threshold_pca)\n",
    "display(descriptive_stat_threshold(X_train, features_list, train_pred_scores_pca, threshold_pca).T)\n",
    "display(descriptive_stat_threshold(X_test, features_list, test_pred_scores_pca, threshold_pca).T)"
   ]
  },
  {
   "cell_type": "code",
   "execution_count": 28,
   "metadata": {},
   "outputs": [],
   "source": [
    "contamination = [0.01, 0.05, 0.1]\n",
    "n_components = [1, 2, 3, 4, 5]\n",
    "rmse_dict = {}\n",
    "\n",
    "for c, k in product(contamination, n_components):\n",
    "    model = GMM(contamination=c, n_components=k, random_state=42)\n",
    "    model.fit(X_train)\n",
    "    inliers = evaluate_outlier_classifier(model, data)\n",
    "    rmse_dict[(c, k)] = evaluate_regressor(inliers)"
   ]
  },
  {
   "cell_type": "code",
   "execution_count": 29,
   "metadata": {},
   "outputs": [
    {
     "data": {
      "text/plain": [
       "{(0.1, 5): 197.613,\n",
       " (0.1, 1): 244.295,\n",
       " (0.05, 5): 251.147,\n",
       " (0.1, 2): 280.774,\n",
       " (0.05, 1): 282.252,\n",
       " (0.1, 3): 282.457,\n",
       " (0.05, 3): 297.925,\n",
       " (0.05, 4): 308.234,\n",
       " (0.05, 2): 308.454,\n",
       " (0.1, 4): 322.562,\n",
       " (0.01, 1): 336.072,\n",
       " (0.01, 4): 357.854,\n",
       " (0.01, 2): 406.77,\n",
       " (0.01, 3): 416.786,\n",
       " (0.01, 5): 437.832}"
      ]
     },
     "execution_count": 29,
     "metadata": {},
     "output_type": "execute_result"
    }
   ],
   "source": [
    "dict(sorted(rmse_dict.items(), key=lambda item: item[1]))"
   ]
  },
  {
   "cell_type": "code",
   "execution_count": 30,
   "metadata": {},
   "outputs": [],
   "source": [
    "contamination = [0.01, 0.05, 0.1]\n",
    "max_features = [0.6, 0.8, 1]\n",
    "max_samples = [0.6, 0.8, 1]\n",
    "n_estimators = [100, 200, 400]\n",
    "rmse_dict = {}\n",
    "\n",
    "for c, mf, ms, k in product(contamination, max_features, max_samples, n_estimators):\n",
    "    model = IForest(contamination=c, max_features=mf, max_samples=ms, n_estimators=k, n_jobs=-1, random_state=42)\n",
    "    model.fit(X_train)\n",
    "    inliers = evaluate_outlier_classifier(model, data)\n",
    "    rmse_dict[(c, mf, ms, k)] = evaluate_regressor(inliers)"
   ]
  },
  {
   "cell_type": "code",
   "execution_count": 31,
   "metadata": {},
   "outputs": [
    {
     "data": {
      "text/plain": [
       "{(0.1, 0.8, 0.6, 400): 242.109,\n",
       " (0.1, 0.8, 0.6, 100): 242.758,\n",
       " (0.1, 0.8, 0.8, 400): 248.374,\n",
       " (0.1, 0.6, 0.8, 400): 248.77,\n",
       " (0.1, 0.6, 0.6, 400): 248.884,\n",
       " (0.1, 0.8, 0.8, 100): 255.159,\n",
       " (0.1, 0.8, 0.6, 200): 268.129,\n",
       " (0.1, 0.8, 0.8, 200): 272.369,\n",
       " (0.1, 0.6, 0.6, 200): 279.618,\n",
       " (0.1, 0.6, 0.6, 100): 285.837,\n",
       " (0.05, 0.8, 0.6, 400): 288.211,\n",
       " (0.1, 0.6, 0.8, 200): 290.398,\n",
       " (0.05, 0.6, 0.6, 400): 297.59,\n",
       " (0.05, 0.8, 0.6, 100): 300.613,\n",
       " (0.05, 0.6, 0.8, 400): 300.725,\n",
       " (0.1, 1, 0.8, 400): 304.329,\n",
       " (0.1, 0.6, 0.8, 100): 305.977,\n",
       " (0.05, 0.8, 0.8, 400): 316.161,\n",
       " (0.05, 0.8, 0.8, 200): 319.723,\n",
       " (0.1, 1, 0.8, 100): 324.693,\n",
       " (0.05, 0.8, 0.6, 200): 325.282,\n",
       " (0.05, 0.6, 0.6, 100): 327.279,\n",
       " (0.05, 0.8, 0.8, 100): 327.517,\n",
       " (0.1, 1, 0.6, 400): 337.727,\n",
       " (0.05, 0.6, 0.6, 200): 339.268,\n",
       " (0.05, 0.6, 0.8, 200): 339.664,\n",
       " (0.1, 1, 0.6, 100): 339.941,\n",
       " (0.05, 0.6, 0.8, 100): 342.609,\n",
       " (0.05, 1, 0.6, 400): 348.413,\n",
       " (0.01, 0.6, 0.8, 400): 378.64,\n",
       " (0.01, 0.6, 0.6, 400): 382.589,\n",
       " (0.05, 1, 0.8, 100): 384.852,\n",
       " (0.01, 0.8, 0.6, 400): 386.343,\n",
       " (0.01, 0.8, 0.6, 100): 391.172,\n",
       " (0.01, 0.8, 0.8, 100): 393.274,\n",
       " (0.01, 0.8, 0.8, 400): 398.045,\n",
       " (0.01, 0.8, 0.6, 200): 401.705,\n",
       " (0.05, 1, 0.6, 100): 407.636,\n",
       " (0.01, 0.8, 0.8, 200): 408.684,\n",
       " (0.1, 1, 0.6, 200): 422.828,\n",
       " (0.01, 0.6, 0.8, 200): 429.542,\n",
       " (0.01, 0.6, 0.6, 200): 431.393,\n",
       " (0.05, 1, 0.8, 400): 436.32,\n",
       " (0.01, 0.6, 0.6, 100): 442.232,\n",
       " (0.01, 1, 0.6, 400): 447.943,\n",
       " (0.01, 0.6, 0.8, 100): 453.192,\n",
       " (0.1, 1, 0.8, 200): 455.328,\n",
       " (0.01, 1, 0.8, 100): 457.815,\n",
       " (0.05, 1, 0.8, 200): 459.137,\n",
       " (0.01, 1, 0.8, 400): 460.713,\n",
       " (0.05, 1, 0.6, 200): 473.996,\n",
       " (0.01, 1, 0.6, 100): 510.475,\n",
       " (0.01, 1, 0.6, 200): 795.676,\n",
       " (0.01, 1, 0.8, 200): 825.015,\n",
       " (0.01, 0.6, 1, 100): 1274.982,\n",
       " (0.01, 0.6, 1, 200): 1274.982,\n",
       " (0.01, 0.6, 1, 400): 1274.982,\n",
       " (0.01, 0.8, 1, 100): 1274.982,\n",
       " (0.01, 0.8, 1, 200): 1274.982,\n",
       " (0.01, 0.8, 1, 400): 1274.982,\n",
       " (0.01, 1, 1, 100): 1274.982,\n",
       " (0.01, 1, 1, 200): 1274.982,\n",
       " (0.01, 1, 1, 400): 1274.982,\n",
       " (0.05, 0.6, 1, 100): 1274.982,\n",
       " (0.05, 0.6, 1, 200): 1274.982,\n",
       " (0.05, 0.6, 1, 400): 1274.982,\n",
       " (0.05, 0.8, 1, 100): 1274.982,\n",
       " (0.05, 0.8, 1, 200): 1274.982,\n",
       " (0.05, 0.8, 1, 400): 1274.982,\n",
       " (0.05, 1, 1, 100): 1274.982,\n",
       " (0.05, 1, 1, 200): 1274.982,\n",
       " (0.05, 1, 1, 400): 1274.982,\n",
       " (0.1, 0.6, 1, 100): 1274.982,\n",
       " (0.1, 0.6, 1, 200): 1274.982,\n",
       " (0.1, 0.6, 1, 400): 1274.982,\n",
       " (0.1, 0.8, 1, 100): 1274.982,\n",
       " (0.1, 0.8, 1, 200): 1274.982,\n",
       " (0.1, 0.8, 1, 400): 1274.982,\n",
       " (0.1, 1, 1, 100): 1274.982,\n",
       " (0.1, 1, 1, 200): 1274.982,\n",
       " (0.1, 1, 1, 400): 1274.982}"
      ]
     },
     "execution_count": 31,
     "metadata": {},
     "output_type": "execute_result"
    }
   ],
   "source": [
    "dict(sorted(rmse_dict.items(), key=lambda item: item[1]))"
   ]
  },
  {
   "cell_type": "code",
   "execution_count": 32,
   "metadata": {},
   "outputs": [],
   "source": [
    "contamination = [0.01, 0.05, 0.1]\n",
    "rmse_dict = {}\n",
    "\n",
    "for c in contamination:\n",
    "    model = LOF(contamination=c, n_jobs=-1)\n",
    "    model.fit(X_train)\n",
    "    inliers = evaluate_outlier_classifier(model, data)\n",
    "    rmse_dict[c] = evaluate_regressor(inliers)"
   ]
  },
  {
   "cell_type": "code",
   "execution_count": 33,
   "metadata": {},
   "outputs": [
    {
     "data": {
      "text/plain": [
       "{0.1: 549.604, 0.05: 549.692, 0.01: 1060.83}"
      ]
     },
     "execution_count": 33,
     "metadata": {},
     "output_type": "execute_result"
    }
   ],
   "source": [
    "dict(sorted(rmse_dict.items(), key=lambda item: item[1]))"
   ]
  },
  {
   "cell_type": "code",
   "execution_count": 40,
   "metadata": {},
   "outputs": [],
   "source": [
    "contamination = [0.01, 0.05, 0.1]\n",
    "n_bins = [10, 20, 40, 80, 160]\n",
    "rmse_dict = {}\n",
    "\n",
    "for c, n in product(contamination, n_bins):\n",
    "    model = HBOS(contamination=c, n_bins=n)\n",
    "    model.fit(X_train)\n",
    "    inliers = evaluate_outlier_classifier(model, data)\n",
    "    rmse_dict[c] = evaluate_regressor(inliers)"
   ]
  },
  {
   "cell_type": "code",
   "execution_count": 41,
   "metadata": {},
   "outputs": [
    {
     "data": {
      "text/plain": [
       "{0.01: 898.205, 0.05: 1100.439, 0.1: 1191.384}"
      ]
     },
     "execution_count": 41,
     "metadata": {},
     "output_type": "execute_result"
    }
   ],
   "source": [
    "dict(sorted(rmse_dict.items(), key=lambda item: item[1]))"
   ]
  },
  {
   "cell_type": "code",
   "execution_count": 34,
   "metadata": {},
   "outputs": [],
   "source": [
    "contamination = [0.01, 0.05, 0.1]\n",
    "rmse_dict = {}\n",
    "\n",
    "for c in contamination:\n",
    "    model = KNN(contamination=c, n_jobs=-1)\n",
    "    model.fit(X_train)\n",
    "    inliers = evaluate_outlier_classifier(model, data)\n",
    "    rmse_dict[c] = evaluate_regressor(inliers)"
   ]
  },
  {
   "cell_type": "code",
   "execution_count": 35,
   "metadata": {},
   "outputs": [
    {
     "data": {
      "text/plain": [
       "{0.01: 539.364, 0.1: 539.402, 0.05: 603.502}"
      ]
     },
     "execution_count": 35,
     "metadata": {},
     "output_type": "execute_result"
    }
   ],
   "source": [
    "dict(sorted(rmse_dict.items(), key=lambda item: item[1]))"
   ]
  },
  {
   "cell_type": "code",
   "execution_count": 36,
   "metadata": {},
   "outputs": [],
   "source": [
    "contamination = [0.01, 0.05, 0.1]\n",
    "n_components = [1, 2, 3, 4, 5]\n",
    "rmse_dict = {}\n",
    "\n",
    "for c, k in product(contamination, n_components):\n",
    "    model = PCA(contamination=c, n_components=k, random_state=42)\n",
    "    model.fit(X_train)\n",
    "    inliers = evaluate_outlier_classifier(model, data)\n",
    "    rmse_dict[(c, k)] = evaluate_regressor(inliers)"
   ]
  },
  {
   "cell_type": "code",
   "execution_count": 37,
   "metadata": {},
   "outputs": [
    {
     "data": {
      "text/plain": [
       "{(0.1, 1): 208.936,\n",
       " (0.1, 2): 223.716,\n",
       " (0.1, 5): 244.856,\n",
       " (0.1, 3): 247.782,\n",
       " (0.1, 4): 248.592,\n",
       " (0.05, 1): 264.666,\n",
       " (0.05, 2): 269.541,\n",
       " (0.05, 5): 279.466,\n",
       " (0.05, 4): 279.549,\n",
       " (0.05, 3): 290.919,\n",
       " (0.01, 1): 339.348,\n",
       " (0.01, 5): 345.997,\n",
       " (0.01, 2): 352.424,\n",
       " (0.01, 4): 353.013,\n",
       " (0.01, 3): 353.143}"
      ]
     },
     "execution_count": 37,
     "metadata": {},
     "output_type": "execute_result"
    }
   ],
   "source": [
    "dict(sorted(rmse_dict.items(), key=lambda item: item[1]))"
   ]
  },
  {
   "cell_type": "code",
   "execution_count": 42,
   "metadata": {},
   "outputs": [],
   "source": [
    "gmm1 = GMM(contamination=0.1, n_components=5, random_state=42)\n",
    "iforest1 = IForest(contamination=0.1, max_features=0.8, max_samples=0.6, n_estimators=400, n_jobs=-1, random_state=42)\n",
    "iforest2 = IForest(contamination=0.1, max_features=0.8, max_samples=0.6, n_estimators=100, n_jobs=-1, random_state=42)\n",
    "pca1 = PCA(contamination=0.1, n_components=1)\n",
    "pca2 = PCA(contamination=0.1, n_components=2)"
   ]
  },
  {
   "cell_type": "code",
   "execution_count": 44,
   "metadata": {},
   "outputs": [],
   "source": [
    "train_scores = np.zeros([len(X_train), 5])\n",
    "test_scores = np.zeros([len(X_test), 5])\n",
    "thresholds = np.zeros(5)\n",
    "for i, clf in enumerate([gmm1, iforest1, iforest2, pca1, pca2]):\n",
    "    clf.fit(X_train)\n",
    "    thresholds[i] = clf.threshold_\n",
    "    train_scores[:, i] = clf.decision_function(X_train.values)\n",
    "    test_scores[:, i] = clf.decision_function(X_test.values)"
   ]
  },
  {
   "cell_type": "code",
   "execution_count": 51,
   "metadata": {},
   "outputs": [
    {
     "data": {
      "text/plain": [
       "array([2.32732931e+01, 1.53959885e-17, 3.43687589e-17, 7.02707722e+00,\n",
       "       1.83315115e+01])"
      ]
     },
     "execution_count": 51,
     "metadata": {},
     "output_type": "execute_result"
    }
   ],
   "source": [
    "thresholds"
   ]
  },
  {
   "cell_type": "code",
   "execution_count": 45,
   "metadata": {},
   "outputs": [
    {
     "data": {
      "text/plain": [
       "0.7431765101832182"
      ]
     },
     "execution_count": 45,
     "metadata": {},
     "output_type": "execute_result"
    }
   ],
   "source": [
    "train_means = train_scores.mean(axis=0)\n",
    "train_stds = train_scores.std(axis=0)\n",
    "threshold_final = np.mean((thresholds - train_means)/train_stds).item()\n",
    "\n",
    "threshold_final"
   ]
  },
  {
   "cell_type": "code",
   "execution_count": 46,
   "metadata": {},
   "outputs": [],
   "source": [
    "train_scores_norm, test_scores_norm = standardizer(train_scores, test_scores)"
   ]
  },
  {
   "cell_type": "code",
   "execution_count": 47,
   "metadata": {},
   "outputs": [],
   "source": [
    "y_train_by_average = average(train_scores_norm)\n",
    "y_test_by_average = average(test_scores_norm)"
   ]
  },
  {
   "cell_type": "code",
   "execution_count": 48,
   "metadata": {},
   "outputs": [
    {
     "data": {
      "image/png": "[encoded data removed]",
      "text/plain": [
       "<Figure size 640x480 with 1 Axes>"
      ]
     },
     "metadata": {},
     "output_type": "display_data"
    }
   ],
   "source": [
    "plt.hist(y_train_by_average, bins='auto')\n",
    "plt.title(\"Combination by average\")\n",
    "plt.show()"
   ]
  },
  {
   "cell_type": "code",
   "execution_count": 168,
   "metadata": {},
   "outputs": [],
   "source": [
    "def compute_contamination(threshold):\n",
    "    df = pd.DataFrame()\n",
    "    df['Anomaly_Score'] = y_train_by_average\n",
    "    df['Group'] = np.where(df['Anomaly_Score'] < threshold.item(), 'Normal', 'Outlier')\n",
    "\n",
    "    # Now let's show the summary statistics:\n",
    "    cnt = df.groupby('Group')['Anomaly_Score'].count().reset_index().rename(columns={'Anomaly_Score': 'Count'})\n",
    "    outlier_pct = (cnt['Count'] / cnt['Count'].sum()).tolist()[-1]\n",
    "    return 0.1 - outlier_pct"
   ]
  },
  {
   "cell_type": "code",
   "execution_count": 174,
   "metadata": {},
   "outputs": [],
   "source": [
    "threshold_final = fsolve(compute_contamination, x0=0).item()"
   ]
  },
  {
   "cell_type": "code",
   "execution_count": 175,
   "metadata": {},
   "outputs": [
    {
     "data": {
      "application/vnd.microsoft.datawrangler.viewer.v0+json": {
       "columns": [
        {
         "name": "index",
         "rawType": "object",
         "type": "string"
        },
        {
         "name": "0",
         "rawType": "object",
         "type": "unknown"
        },
        {
         "name": "1",
         "rawType": "object",
         "type": "unknown"
        }
       ],
       "conversionMethod": "pd.DataFrame",
       "ref": "23bb35b1-ddd7-4e25-9075-8609b1deabda",
       "rows": [
        [
         "Group",
         "Normal",
         "Outlier"
        ],
        [
         "Count",
         "156699",
         "17411"
        ],
        [
         "Count %",
         "90.0",
         "10.0"
        ],
        [
         "minimum_nights",
         "11.36",
         "33.41"
        ],
        [
         "number_of_reviews",
         "30.5",
         "136.46"
        ],
        [
         "reviews_per_month",
         "1.11",
         "2.9"
        ],
        [
         "calculated_host_listings_count",
         "11.67",
         "192.8"
        ],
        [
         "availability_365",
         "178.1",
         "207.5"
        ],
        [
         "Anomaly_Score",
         "-0.19",
         "1.72"
        ]
       ],
       "shape": {
        "columns": 2,
        "rows": 9
       }
      },
      "text/html": [
       "<div>\n",
       "<style scoped>\n",
       "    .dataframe tbody tr th:only-of-type {\n",
       "        vertical-align: middle;\n",
       "    }\n",
       "\n",
       "    .dataframe tbody tr th {\n",
       "        vertical-align: top;\n",
       "    }\n",
       "\n",
       "    .dataframe thead th {\n",
       "        text-align: right;\n",
       "    }\n",
       "</style>\n",
       "<table border=\"1\" class=\"dataframe\">\n",
       "  <thead>\n",
       "    <tr style=\"text-align: right;\">\n",
       "      <th></th>\n",
       "      <th>0</th>\n",
       "      <th>1</th>\n",
       "    </tr>\n",
       "  </thead>\n",
       "  <tbody>\n",
       "    <tr>\n",
       "      <th>Group</th>\n",
       "      <td>Normal</td>\n",
       "      <td>Outlier</td>\n",
       "    </tr>\n",
       "    <tr>\n",
       "      <th>Count</th>\n",
       "      <td>156699</td>\n",
       "      <td>17411</td>\n",
       "    </tr>\n",
       "    <tr>\n",
       "      <th>Count %</th>\n",
       "      <td>90.0</td>\n",
       "      <td>10.0</td>\n",
       "    </tr>\n",
       "    <tr>\n",
       "      <th>minimum_nights</th>\n",
       "      <td>11.36</td>\n",
       "      <td>33.41</td>\n",
       "    </tr>\n",
       "    <tr>\n",
       "      <th>number_of_reviews</th>\n",
       "      <td>30.5</td>\n",
       "      <td>136.46</td>\n",
       "    </tr>\n",
       "    <tr>\n",
       "      <th>reviews_per_month</th>\n",
       "      <td>1.11</td>\n",
       "      <td>2.9</td>\n",
       "    </tr>\n",
       "    <tr>\n",
       "      <th>calculated_host_listings_count</th>\n",
       "      <td>11.67</td>\n",
       "      <td>192.8</td>\n",
       "    </tr>\n",
       "    <tr>\n",
       "      <th>availability_365</th>\n",
       "      <td>178.1</td>\n",
       "      <td>207.5</td>\n",
       "    </tr>\n",
       "    <tr>\n",
       "      <th>Anomaly_Score</th>\n",
       "      <td>-0.19</td>\n",
       "      <td>1.72</td>\n",
       "    </tr>\n",
       "  </tbody>\n",
       "</table>\n",
       "</div>"
      ],
      "text/plain": [
       "                                     0        1\n",
       "Group                           Normal  Outlier\n",
       "Count                           156699    17411\n",
       "Count %                           90.0     10.0\n",
       "minimum_nights                   11.36    33.41\n",
       "number_of_reviews                 30.5   136.46\n",
       "reviews_per_month                 1.11      2.9\n",
       "calculated_host_listings_count   11.67    192.8\n",
       "availability_365                 178.1    207.5\n",
       "Anomaly_Score                    -0.19     1.72"
      ]
     },
     "execution_count": 175,
     "metadata": {},
     "output_type": "execute_result"
    }
   ],
   "source": [
    "descriptive_stat_threshold(X_train, features_list, y_train_by_average, threshold_final).T"
   ]
  },
  {
   "cell_type": "code",
   "execution_count": 176,
   "metadata": {},
   "outputs": [
    {
     "data": {
      "application/vnd.microsoft.datawrangler.viewer.v0+json": {
       "columns": [
        {
         "name": "index",
         "rawType": "object",
         "type": "string"
        },
        {
         "name": "0",
         "rawType": "object",
         "type": "unknown"
        },
        {
         "name": "1",
         "rawType": "object",
         "type": "unknown"
        }
       ],
       "conversionMethod": "pd.DataFrame",
       "ref": "df55f4e2-f2f6-4695-9b8c-dc56e2204fdd",
       "rows": [
        [
         "Group",
         "Normal",
         "Outlier"
        ],
        [
         "Count",
         "52126",
         "5911"
        ],
        [
         "Count %",
         "89.81511794200252",
         "10.184882057997484"
        ],
        [
         "minimum_nights",
         "11.27",
         "31.17"
        ],
        [
         "number_of_reviews",
         "29.81",
         "133.59"
        ],
        [
         "reviews_per_month",
         "1.11",
         "2.89"
        ],
        [
         "calculated_host_listings_count",
         "11.6",
         "193.81"
        ],
        [
         "availability_365",
         "177.78",
         "207.68"
        ],
        [
         "Anomaly_Score",
         "-0.19",
         "1.67"
        ]
       ],
       "shape": {
        "columns": 2,
        "rows": 9
       }
      },
      "text/html": [
       "<div>\n",
       "<style scoped>\n",
       "    .dataframe tbody tr th:only-of-type {\n",
       "        vertical-align: middle;\n",
       "    }\n",
       "\n",
       "    .dataframe tbody tr th {\n",
       "        vertical-align: top;\n",
       "    }\n",
       "\n",
       "    .dataframe thead th {\n",
       "        text-align: right;\n",
       "    }\n",
       "</style>\n",
       "<table border=\"1\" class=\"dataframe\">\n",
       "  <thead>\n",
       "    <tr style=\"text-align: right;\">\n",
       "      <th></th>\n",
       "      <th>0</th>\n",
       "      <th>1</th>\n",
       "    </tr>\n",
       "  </thead>\n",
       "  <tbody>\n",
       "    <tr>\n",
       "      <th>Group</th>\n",
       "      <td>Normal</td>\n",
       "      <td>Outlier</td>\n",
       "    </tr>\n",
       "    <tr>\n",
       "      <th>Count</th>\n",
       "      <td>52126</td>\n",
       "      <td>5911</td>\n",
       "    </tr>\n",
       "    <tr>\n",
       "      <th>Count %</th>\n",
       "      <td>89.815118</td>\n",
       "      <td>10.184882</td>\n",
       "    </tr>\n",
       "    <tr>\n",
       "      <th>minimum_nights</th>\n",
       "      <td>11.27</td>\n",
       "      <td>31.17</td>\n",
       "    </tr>\n",
       "    <tr>\n",
       "      <th>number_of_reviews</th>\n",
       "      <td>29.81</td>\n",
       "      <td>133.59</td>\n",
       "    </tr>\n",
       "    <tr>\n",
       "      <th>reviews_per_month</th>\n",
       "      <td>1.11</td>\n",
       "      <td>2.89</td>\n",
       "    </tr>\n",
       "    <tr>\n",
       "      <th>calculated_host_listings_count</th>\n",
       "      <td>11.6</td>\n",
       "      <td>193.81</td>\n",
       "    </tr>\n",
       "    <tr>\n",
       "      <th>availability_365</th>\n",
       "      <td>177.78</td>\n",
       "      <td>207.68</td>\n",
       "    </tr>\n",
       "    <tr>\n",
       "      <th>Anomaly_Score</th>\n",
       "      <td>-0.19</td>\n",
       "      <td>1.67</td>\n",
       "    </tr>\n",
       "  </tbody>\n",
       "</table>\n",
       "</div>"
      ],
      "text/plain": [
       "                                        0          1\n",
       "Group                              Normal    Outlier\n",
       "Count                               52126       5911\n",
       "Count %                         89.815118  10.184882\n",
       "minimum_nights                      11.27      31.17\n",
       "number_of_reviews                   29.81     133.59\n",
       "reviews_per_month                    1.11       2.89\n",
       "calculated_host_listings_count       11.6     193.81\n",
       "availability_365                   177.78     207.68\n",
       "Anomaly_Score                       -0.19       1.67"
      ]
     },
     "execution_count": 176,
     "metadata": {},
     "output_type": "execute_result"
    }
   ],
   "source": [
    "descriptive_stat_threshold(X_test, features_list, y_test_by_average, threshold_final).T"
   ]
  },
  {
   "cell_type": "code",
   "execution_count": null,
   "metadata": {},
   "outputs": [],
   "source": []
  }
 ],
 "metadata": {
  "kernelspec": {
   "display_name": "anomaly",
   "language": "python",
   "name": "python3"
  },
  "language_info": {
   "codemirror_mode": {
    "name": "ipython",
    "version": 3
   },
   "file_extension": ".py",
   "mimetype": "text/x-python",
   "name": "python",
   "nbconvert_exporter": "python",
   "pygments_lexer": "ipython3",
   "version": "3.12.9"
  }
 },
 "nbformat": 4,
 "nbformat_minor": 2
}
